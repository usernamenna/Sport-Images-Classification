{
  "cells": [
    {
      "cell_type": "markdown",
      "metadata": {
        "id": "h8qMCkaLS_tS"
      },
      "source": [
        "# First time data processing\n",
        "\n",
        "Divide the images files to sub-directories for each class to enable the `tensorflow.data` api to interact with them  "
      ]
    },
    {
      "cell_type": "code",
      "execution_count": null,
      "metadata": {
        "colab": {
          "base_uri": "https://localhost:8080/"
        },
        "id": "IFn6k2hdISBt",
        "outputId": "cd0ed0ce-ca08-4f5b-cd89-9bf36721c443"
      },
      "outputs": [
        {
          "name": "stdout",
          "output_type": "stream",
          "text": [
            "Downloading nn23-sports-image-classification.zip to /content\n",
            " 99% 258M/262M [00:08<00:00, 41.5MB/s]\n",
            "100% 262M/262M [00:08<00:00, 33.1MB/s]\n"
          ]
        }
      ],
      "source": [
        "# import os\n",
        "# os.environ['KAGGLE_USERNAME'] = \"aymanmostafa11\"\n",
        "# os.environ['KAGGLE_KEY'] = \"9e906ab1e07a4dc6e797063cf8a37f32\"\n",
        "# !kaggle competitions download -c nn23-sports-image-classification"
      ]
    },
    {
      "cell_type": "code",
      "execution_count": null,
      "metadata": {
        "id": "iqaYCziroxbe"
      },
      "outputs": [],
      "source": [
        "# !unzip \"/content/nn23-sports-image-classification.zip\" -d \"/content/data\""
      ]
    },
    {
      "cell_type": "code",
      "execution_count": null,
      "metadata": {
        "colab": {
          "base_uri": "https://localhost:8080/"
        },
        "id": "YkZ_0fNHofNe",
        "outputId": "c1eae744-e96b-4c5e-d562-b202cccc2bf8"
      },
      "outputs": [
        {
          "name": "stdout",
          "output_type": "stream",
          "text": [
            "makin dir\n",
            "makin dir\n",
            "makin dir\n",
            "makin dir\n",
            "makin dir\n",
            "makin dir\n"
          ]
        }
      ],
      "source": [
        "# import shutil\n",
        "# import glob\n",
        "# sports = [\"Basketball\", \"Football\", \"Rowing\", \"Swimming\", \"Tennis\", \"Yoga\"]\n",
        "# files = {sport: glob.glob(\"/content/data/Train/\" + sport + \"*\") for sport in sports}\n",
        "# for sport in files:\n",
        "#   try:\n",
        "#     print(\"makin dir\")\n",
        "#     os.mkdir(\"/content/classed/Train/\" + sport + \"/\")\n",
        "#   except:\n",
        "#     pass\n",
        "#   names = files[sport]\n",
        "#   for f in names:\n",
        "#     shutil.move(f, \"/content/classed/Train/\" + sport + \"/\")"
      ]
    },
    {
      "cell_type": "code",
      "execution_count": null,
      "metadata": {
        "colab": {
          "base_uri": "https://localhost:8080/",
          "height": 36
        },
        "id": "dbLe3Cn1p8QX",
        "outputId": "bdf04128-339f-425e-993b-96b4e1a295ad"
      },
      "outputs": [
        {
          "data": {
            "application/vnd.google.colaboratory.intrinsic+json": {
              "type": "string"
            },
            "text/plain": [
              "'/content/classed/Test'"
            ]
          },
          "execution_count": 11,
          "metadata": {},
          "output_type": "execute_result"
        }
      ],
      "source": [
        "# shutil.move(\"/content/data/Test\", \"/content/classed\")"
      ]
    },
    {
      "cell_type": "code",
      "execution_count": null,
      "metadata": {
        "id": "6qWMFadSKVoZ"
      },
      "outputs": [],
      "source": [
        "# !zip -r \"dataset.zip\" \"/content/classed/\""
      ]
    },
    {
      "cell_type": "code",
      "execution_count": null,
      "metadata": {
        "id": "DaDJxMOmqwgw"
      },
      "outputs": [],
      "source": [
        "# !cp \"dataset.zip\" \"/content/drive/MyDrive/Edu/NN/ProjectData\""
      ]
    },
    {
      "cell_type": "markdown",
      "metadata": {
        "id": "Smqv-IIV4sWm"
      },
      "source": [
        "# Models"
      ]
    },
    {
      "cell_type": "markdown",
      "metadata": {
        "id": "Np32iw0A5rW5"
      },
      "source": [
        "## Imports"
      ]
    },
    {
      "cell_type": "code",
      "execution_count": null,
      "metadata": {
        "id": "3QSncpbN5t_a"
      },
      "outputs": [],
      "source": [
        "import pandas as pd\n",
        "import numpy as np\n",
        "import os\n",
        "import tensorflow as tf\n",
        "import tensorflow.keras.utils as utils\n",
        "from tensorflow.keras import layers\n",
        "import cv2\n",
        "from google.colab.patches import cv2_imshow\n",
        "from tensorflow import keras\n",
        "from keras.preprocessing.image import ImageDataGenerator\n",
        "from keras.callbacks import ReduceLROnPlateau\n",
        "from keras.models import Model\n",
        "from keras.layers import Conv2D, MaxPool2D,  \\\n",
        "    Dropout, Dense, Input, concatenate,      \\\n",
        "    GlobalAveragePooling2D, AveragePooling2D,\\\n",
        "    Flatten, SeparableConv2D, ReLU, BatchNormalization, \\\n",
        "    Add\n",
        "\n",
        "from sklearn.metrics import ConfusionMatrixDisplay, f1_score\n",
        "from sklearn.utils import compute_class_weight\n",
        "\n",
        "import matplotlib.pyplot as plt\n",
        "import seaborn as sns"
      ]
    },
    {
      "cell_type": "code",
      "execution_count": null,
      "metadata": {
        "colab": {
          "base_uri": "https://localhost:8080/"
        },
        "id": "W9EYJUuGAwAr",
        "outputId": "db4e6ae0-0bb2-4f38-d1c8-ebf5f4217135"
      },
      "outputs": [
        {
          "name": "stdout",
          "output_type": "stream",
          "text": [
            "/device:GPU:0\n",
            "Num GPUs Available:  1\n"
          ]
        }
      ],
      "source": [
        "# Check for gpu availability\n",
        "print(tf.test.gpu_device_name())\n",
        "print(\"Num GPUs Available: \", len(tf.config.experimental.list_physical_devices('GPU')))"
      ]
    },
    {
      "cell_type": "markdown",
      "metadata": {
        "id": "GkXMrknA7O56"
      },
      "source": [
        "## Global Params"
      ]
    },
    {
      "cell_type": "code",
      "execution_count": null,
      "metadata": {
        "id": "WoTm-kXO7Soy"
      },
      "outputs": [],
      "source": [
        "IMG_SIZE = (224, 224)\n",
        "BATCH_SIZE = 64\n",
        "COLOR_MODE = \"rgb\"\n",
        "COLOR_CHANNELS = 3 if COLOR_MODE == \"rgb\" else 1\n",
        "SEED = 42\n",
        "VALIDATION_SPLIT = 0.2\n",
        "sports = [\"Basketball\", \"Football\", \"Rowing\", \"Swimming\", \"Tennis\", \"Yoga\"]\n",
        "CLASS_COUNT = len(sports)"
      ]
    },
    {
      "cell_type": "markdown",
      "metadata": {
        "id": "EfiRQMbU9iub"
      },
      "source": [
        "## Util functions"
      ]
    },
    {
      "cell_type": "code",
      "execution_count": null,
      "metadata": {
        "id": "HpvWfn3S9lwS"
      },
      "outputs": [],
      "source": [
        "def get_data_labels(data):\n",
        "  _ , labels = zip((*data))\n",
        "  labels = np.hstack(labels)\n",
        "  del _\n",
        "  return labels.T"
      ]
    },
    {
      "cell_type": "code",
      "execution_count": null,
      "metadata": {
        "id": "Q7HGXK2iAIyD"
      },
      "outputs": [],
      "source": [
        "def show_confusion_matrix(model, data):\n",
        "  imgs, labels = zip((*data))\n",
        "  imgs = np.vstack(imgs)\n",
        "  labels = np.hstack(labels)\n",
        "  preds = model.predict(imgs).argmax(axis=1)\n",
        "  ConfusionMatrixDisplay.from_predictions(labels, preds, display_labels=sports, xticks_rotation=45)\n",
        "  del imgs\n",
        "  del labels"
      ]
    },
    {
      "cell_type": "code",
      "execution_count": null,
      "metadata": {
        "id": "ODKaTPH9OgSd"
      },
      "outputs": [],
      "source": [
        "def calc_f1_score(model, data):\n",
        "  imgs, labels = zip((*data))\n",
        "  imgs = np.vstack(imgs)\n",
        "  labels = np.hstack(labels)\n",
        "  preds = model.predict(imgs).argmax(axis=1)\n",
        "  score = f1_score(labels, preds, average='weighted')\n",
        "  del imgs\n",
        "  del labels\n",
        "  return score"
      ]
    },
    {
      "cell_type": "markdown",
      "metadata": {
        "id": "jR9H0--H6PJk"
      },
      "source": [
        "## Load Data"
      ]
    },
    {
      "cell_type": "code",
      "execution_count": null,
      "metadata": {
        "colab": {
          "base_uri": "https://localhost:8080/"
        },
        "id": "tImZAwNn63xN",
        "outputId": "b4e56e6f-331b-45a0-8f5c-c0ff1a20ee84"
      },
      "outputs": [
        {
          "name": "stdout",
          "output_type": "stream",
          "text": [
            "Mounted at /content/drive\n"
          ]
        }
      ],
      "source": [
        "from google.colab import drive\n",
        "drive.mount('/content/drive')"
      ]
    },
    {
      "cell_type": "code",
      "execution_count": null,
      "metadata": {
        "id": "_xWnThC37qnr"
      },
      "outputs": [],
      "source": [
        "%%capture\n",
        "!unzip \"/content/drive/MyDrive/Edu/NN/ProjectData/dataset.zip\" -d \"/content/\""
      ]
    },
    {
      "cell_type": "code",
      "execution_count": null,
      "metadata": {
        "id": "Fy68zKzh7tGy"
      },
      "outputs": [],
      "source": [
        "train_path = \"/content/content/classed/Train\"\n",
        "test_path =  \"/content/content/classed/Test\""
      ]
    },
    {
      "cell_type": "code",
      "execution_count": null,
      "metadata": {
        "colab": {
          "base_uri": "https://localhost:8080/"
        },
        "id": "mCM8hLAg7vQK",
        "outputId": "05ae9079-068c-4ba6-d0d7-37d6ed825621"
      },
      "outputs": [
        {
          "name": "stdout",
          "output_type": "stream",
          "text": [
            "Found 1681 files belonging to 6 classes.\n",
            "Using 1345 files for training.\n",
            "Found 1681 files belonging to 6 classes.\n",
            "Using 336 files for validation.\n",
            "Found 1681 files belonging to 6 classes.\n"
          ]
        }
      ],
      "source": [
        "train_data = utils.image_dataset_from_directory(train_path,subset='training' ,\n",
        "                                                class_names = sports,\n",
        "                                                validation_split=VALIDATION_SPLIT, \n",
        "                                                seed = SEED, \n",
        "                                                image_size=IMG_SIZE, \n",
        "                                                batch_size=BATCH_SIZE,\n",
        "                                                color_mode=COLOR_MODE)\n",
        "\n",
        "valid_data = utils.image_dataset_from_directory(train_path,subset='validation',\n",
        "                                           class_names= sports,\n",
        "                                           validation_split=VALIDATION_SPLIT,\n",
        "                                           seed = SEED, \n",
        "                                           image_size=IMG_SIZE,\n",
        "                                           batch_size=BATCH_SIZE,\n",
        "                                           color_mode=COLOR_MODE) \n",
        "total_data =  utils.image_dataset_from_directory(train_path,\n",
        "                                           class_names= sports,\n",
        "                                           image_size=IMG_SIZE,\n",
        "                                           batch_size=BATCH_SIZE,\n",
        "                                           color_mode=COLOR_MODE) "
      ]
    },
    {
      "cell_type": "code",
      "execution_count": null,
      "metadata": {
        "id": "BGRuix-Z_0YK"
      },
      "outputs": [],
      "source": [
        "valid_labels = get_data_labels(valid_data) # will be used in building confusion matrix"
      ]
    },
    {
      "cell_type": "code",
      "execution_count": null,
      "metadata": {
        "colab": {
          "base_uri": "https://localhost:8080/"
        },
        "id": "MeuJbnyJ7yLC",
        "outputId": "ed9b8ff6-d573-4200-81a1-3a24a0a3447b"
      },
      "outputs": [
        {
          "name": "stdout",
          "output_type": "stream",
          "text": [
            "Found 688 files belonging to 1 classes.\n"
          ]
        }
      ],
      "source": [
        "test_data = utils.image_dataset_from_directory(test_path,\n",
        "                                               label_mode=None, \n",
        "                                               seed = SEED, \n",
        "                                               image_size=IMG_SIZE,\n",
        "                                               batch_size=BATCH_SIZE,\n",
        "                                               color_mode=COLOR_MODE, \n",
        "                                               shuffle=False)"
      ]
    },
    {
      "cell_type": "markdown",
      "metadata": {
        "id": "aZ0xcQ2WgGx5"
      },
      "source": [
        "### Augmentation"
      ]
    },
    {
      "cell_type": "code",
      "execution_count": null,
      "metadata": {
        "id": "7xVyB82rsl_L"
      },
      "outputs": [],
      "source": [
        "def augment_data(train_data):\n",
        "  augmentor_1 = tf.keras.Sequential([\n",
        "    layers.RandomFlip(mode=\"horizontal\"),\n",
        "    layers.RandomRotation(0.2),\n",
        "    tf.keras.layers.RandomTranslation(0.1,0.1)\n",
        "  ])\n",
        "\n",
        "  # augmentor_2 = tf.keras.Sequential([\n",
        "  #   layers.RandomContrast(0.2),\n",
        "  #   layers.RandomBrightness(0.2)\n",
        "  # ])\n",
        "\n",
        "  aug_data_1 = train_data.map(lambda x, y: (augmentor_1(x, training=True), y))\n",
        "  # aug_data_2 = train_data.map(lambda x, y: (augmentor_2(x, training=True), y))\n",
        "\n",
        "  # aug_data = aug_data_1.concatenate(aug_data_2)\n",
        "  return aug_data_1"
      ]
    },
    {
      "cell_type": "code",
      "execution_count": null,
      "metadata": {
        "colab": {
          "base_uri": "https://localhost:8080/"
        },
        "id": "ftRQkV2XtNrU",
        "outputId": "ceca5a9a-a959-4794-a1c5-0ea1c6cd00dc"
      },
      "outputs": [
        {
          "name": "stderr",
          "output_type": "stream",
          "text": [
            "WARNING:tensorflow:Using a while_loop for converting RngReadAndSkip\n",
            "WARNING:tensorflow:Using a while_loop for converting Bitcast\n",
            "WARNING:tensorflow:Using a while_loop for converting Bitcast\n",
            "WARNING:tensorflow:Using a while_loop for converting StatelessRandomUniformV2\n",
            "WARNING:tensorflow:Using a while_loop for converting RngReadAndSkip\n",
            "WARNING:tensorflow:Using a while_loop for converting Bitcast\n",
            "WARNING:tensorflow:Using a while_loop for converting Bitcast\n",
            "WARNING:tensorflow:Using a while_loop for converting StatelessRandomUniformV2\n",
            "WARNING:tensorflow:Using a while_loop for converting ImageProjectiveTransformV3\n",
            "WARNING:tensorflow:Using a while_loop for converting RngReadAndSkip\n",
            "WARNING:tensorflow:Using a while_loop for converting Bitcast\n",
            "WARNING:tensorflow:Using a while_loop for converting Bitcast\n",
            "WARNING:tensorflow:Using a while_loop for converting StatelessRandomUniformV2\n",
            "WARNING:tensorflow:Using a while_loop for converting RngReadAndSkip\n",
            "WARNING:tensorflow:Using a while_loop for converting Bitcast\n",
            "WARNING:tensorflow:Using a while_loop for converting Bitcast\n",
            "WARNING:tensorflow:Using a while_loop for converting StatelessRandomUniformV2\n",
            "WARNING:tensorflow:Using a while_loop for converting ImageProjectiveTransformV3\n"
          ]
        }
      ],
      "source": [
        "aug_data = augment_data(train_data)"
      ]
    },
    {
      "cell_type": "code",
      "execution_count": null,
      "metadata": {
        "id": "JoaU9f_6kBDl"
      },
      "outputs": [],
      "source": [
        "train_data = train_data.concatenate(aug_data)"
      ]
    },
    {
      "cell_type": "code",
      "execution_count": null,
      "metadata": {
        "id": "RPqn8Gp3lhEA"
      },
      "outputs": [],
      "source": [
        "train_data = train_data.shuffle(6000)"
      ]
    },
    {
      "cell_type": "code",
      "execution_count": null,
      "metadata": {
        "id": "KJj11mizmCHX"
      },
      "outputs": [],
      "source": [
        "#train_data = train_data.batch(32)"
      ]
    },
    {
      "cell_type": "code",
      "execution_count": null,
      "metadata": {
        "colab": {
          "base_uri": "https://localhost:8080/"
        },
        "id": "xdK2QKjGnn6E",
        "outputId": "57a43ba8-7ee7-49f2-fd06-10121c25c995"
      },
      "outputs": [
        {
          "data": {
            "text/plain": [
              "44"
            ]
          },
          "execution_count": 170,
          "metadata": {},
          "output_type": "execute_result"
        }
      ],
      "source": [
        "# Should be 44 (22 batches for main data + 22 batche for aug data)\n",
        "train_data.cardinality().numpy()"
      ]
    },
    {
      "cell_type": "markdown",
      "metadata": {
        "id": "ApC8AxMT8SgC"
      },
      "source": [
        "## Tuning functions"
      ]
    },
    {
      "cell_type": "markdown",
      "metadata": {
        "id": "709j0A9B8bLB"
      },
      "source": [
        "<h3>Weight decay (Regularization)</h3>"
      ]
    },
    {
      "cell_type": "code",
      "execution_count": null,
      "metadata": {
        "id": "vXBGTF6c8YZz"
      },
      "outputs": [],
      "source": [
        "def apply_weight_decay(model, alpha=0.002):\n",
        "  for layer in model.layers:\n",
        "      if isinstance(layer, keras.layers.Conv2D) or isinstance(layer, keras.layers.Dense):\n",
        "          layer.add_loss(lambda layer=layer: keras.regularizers.l2(alpha)(layer.kernel))\n",
        "      if hasattr(layer, 'bias_regularizer') and layer.use_bias:\n",
        "          layer.add_loss(lambda layer=layer: keras.regularizers.l2(alpha)(layer.bias))"
      ]
    },
    {
      "cell_type": "markdown",
      "metadata": {
        "id": "dvLfAjgE8xFT"
      },
      "source": [
        "<h3>Class weights</h3>\n",
        "\n",
        "Since classes are imbalanced we need the model to give higher weights to classes that appear less in data"
      ]
    },
    {
      "cell_type": "code",
      "execution_count": null,
      "metadata": {
        "id": "k9-Ue5Li9BRq"
      },
      "outputs": [],
      "source": [
        "def get_class_weights(data):\n",
        "  _ , train_labels = zip((*data))\n",
        "  train_labels = np.hstack(train_labels)\n",
        "  w = compute_class_weight('balanced',classes=np.unique(train_labels),y=train_labels)\n",
        "  class_weights = {i:w[i] for i in range(len(sports))}\n",
        "  del _\n",
        "  del train_labels\n",
        "  return class_weights"
      ]
    },
    {
      "cell_type": "code",
      "execution_count": null,
      "metadata": {
        "id": "z8XAjTLpR5ao"
      },
      "outputs": [],
      "source": [
        "class_weight = get_class_weights(train_data)"
      ]
    },
    {
      "cell_type": "code",
      "execution_count": null,
      "metadata": {
        "id": "w991DvWRhf0Q"
      },
      "outputs": [],
      "source": [
        "# l = get_data_labels(train_data)\n",
        "# label_counts = pd.Series(l).value_counts()\n",
        "# label_counts.index = label_counts.index.map({i:sport for i,sport in enumerate(sports)})\n",
        "# ax = sns.barplot(x=label_counts.index, y=label_counts.values)\n",
        "# ax.set_title(\"Train data class distribution\")\n",
        "# ax.set_xlabel(\"Sport\")\n",
        "# ax.set_ylabel(\"Label Count\")\n",
        "# plt.show()"
      ]
    },
    {
      "cell_type": "markdown",
      "metadata": {
        "id": "ozZDAE2DM6Rk"
      },
      "source": [
        "## CNN"
      ]
    },
    {
      "cell_type": "code",
      "execution_count": null,
      "metadata": {
        "id": "UFv-DWRDNA0v"
      },
      "outputs": [],
      "source": [
        "model = keras.Sequential()\n",
        "#model.add(keras.layers.Rescaling(1 / 255.0, input_shape=(*IMG_SIZE, COLOR_CHANNELS)))\n",
        "\n",
        "model.add(keras.layers.Conv2D(16, (5,5), strides=(2,2), activation='leaky_relu', input_shape=(*IMG_SIZE, COLOR_CHANNELS)))\n",
        "model.add(layers.BatchNormalization())\n",
        "model.add(keras.layers.Conv2D(16, (5,5),strides=(2,2) ,activation='leaky_relu'))\n",
        "model.add(layers.BatchNormalization())\n",
        "model.add(keras.layers.MaxPooling2D())\n",
        "\n",
        "model.add(keras.layers.Conv2D(32, (3,3), activation='leaky_relu'))\n",
        "model.add(layers.BatchNormalization())\n",
        "model.add(keras.layers.Conv2D(32, (3,3), activation='leaky_relu'))\n",
        "model.add(layers.BatchNormalization())\n",
        "#model.add(keras.layers.Dropout(0.3))\n",
        "model.add(keras.layers.MaxPooling2D())\n",
        "\n",
        "model.add(keras.layers.Conv2D(64, (3,3), activation='leaky_relu'))\n",
        "model.add(layers.BatchNormalization())\n",
        "model.add(keras.layers.Conv2D(64, (3,3), activation='leaky_relu'))\n",
        "model.add(layers.BatchNormalization())\n",
        "#model.add(keras.layers.Dropout(0.3))\n",
        "model.add(keras.layers.MaxPooling2D())\n",
        "\n",
        "\n",
        "model.add(layers.GlobalAveragePooling2D())\n",
        "model.add(layers.Dense(32, activation='leaky_relu'))\n",
        "model.add(layers.BatchNormalization())\n",
        "model.add(keras.layers.Dropout(0.2))\n",
        "model.add(keras.layers.Dense(CLASS_COUNT, activation='softmax'))"
      ]
    },
    {
      "cell_type": "code",
      "execution_count": null,
      "metadata": {
        "id": "adVMfDT0PN6F"
      },
      "outputs": [],
      "source": [
        "apply_weight_decay(model)"
      ]
    },
    {
      "cell_type": "code",
      "execution_count": null,
      "metadata": {
        "id": "oGK9W0z4PN6F"
      },
      "outputs": [],
      "source": [
        "model.compile(keras.optimizers.Adam(learning_rate=0.0001),\n",
        "              loss=keras.losses.SparseCategoricalCrossentropy(), metrics=['accuracy'])"
      ]
    },
    {
      "cell_type": "code",
      "execution_count": null,
      "metadata": {
        "colab": {
          "base_uri": "https://localhost:8080/"
        },
        "id": "TS5QJMhkPN6F",
        "outputId": "0a2a8f2c-92a7-4a57-fe8c-2d30ca3fc098"
      },
      "outputs": [
        {
          "name": "stdout",
          "output_type": "stream",
          "text": [
            "Model: \"sequential_15\"\n",
            "_________________________________________________________________\n",
            " Layer (type)                Output Shape              Param #   \n",
            "=================================================================\n",
            " conv2d_82 (Conv2D)          (None, 110, 110, 16)      1216      \n",
            "                                                                 \n",
            " batch_normalization_97 (Bat  (None, 110, 110, 16)     64        \n",
            " chNormalization)                                                \n",
            "                                                                 \n",
            " conv2d_83 (Conv2D)          (None, 53, 53, 16)        6416      \n",
            "                                                                 \n",
            " batch_normalization_98 (Bat  (None, 53, 53, 16)       64        \n",
            " chNormalization)                                                \n",
            "                                                                 \n",
            " max_pooling2d_40 (MaxPoolin  (None, 26, 26, 16)       0         \n",
            " g2D)                                                            \n",
            "                                                                 \n",
            " conv2d_84 (Conv2D)          (None, 24, 24, 32)        4640      \n",
            "                                                                 \n",
            " batch_normalization_99 (Bat  (None, 24, 24, 32)       128       \n",
            " chNormalization)                                                \n",
            "                                                                 \n",
            " conv2d_85 (Conv2D)          (None, 22, 22, 32)        9248      \n",
            "                                                                 \n",
            " batch_normalization_100 (Ba  (None, 22, 22, 32)       128       \n",
            " tchNormalization)                                               \n",
            "                                                                 \n",
            " max_pooling2d_41 (MaxPoolin  (None, 11, 11, 32)       0         \n",
            " g2D)                                                            \n",
            "                                                                 \n",
            " conv2d_86 (Conv2D)          (None, 9, 9, 64)          18496     \n",
            "                                                                 \n",
            " batch_normalization_101 (Ba  (None, 9, 9, 64)         256       \n",
            " tchNormalization)                                               \n",
            "                                                                 \n",
            " conv2d_87 (Conv2D)          (None, 7, 7, 64)          36928     \n",
            "                                                                 \n",
            " batch_normalization_102 (Ba  (None, 7, 7, 64)         256       \n",
            " tchNormalization)                                               \n",
            "                                                                 \n",
            " max_pooling2d_42 (MaxPoolin  (None, 3, 3, 64)         0         \n",
            " g2D)                                                            \n",
            "                                                                 \n",
            " global_average_pooling2d_12  (None, 64)               0         \n",
            "  (GlobalAveragePooling2D)                                       \n",
            "                                                                 \n",
            " dense_29 (Dense)            (None, 32)                2080      \n",
            "                                                                 \n",
            " batch_normalization_103 (Ba  (None, 32)               128       \n",
            " tchNormalization)                                               \n",
            "                                                                 \n",
            " dropout_27 (Dropout)        (None, 32)                0         \n",
            "                                                                 \n",
            " dense_30 (Dense)            (None, 6)                 198       \n",
            "                                                                 \n",
            "=================================================================\n",
            "Total params: 80,246\n",
            "Trainable params: 79,734\n",
            "Non-trainable params: 512\n",
            "_________________________________________________________________\n"
          ]
        }
      ],
      "source": [
        "model.summary()"
      ]
    },
    {
      "cell_type": "code",
      "execution_count": null,
      "metadata": {
        "id": "IkqFzDQxPN6F"
      },
      "outputs": [],
      "source": [
        "model_checkpoint = keras.callbacks.ModelCheckpoint(\"checkpoints/cnn-e{epoch:02d}-acc{val_accuracy:.2f}.hdf5\",\n",
        "                                                   monitor=\"val_accuracy\",\n",
        "                                                   save_best_only = True,\n",
        "                                                   initial_value_threshold=0.85)"
      ]
    },
    {
      "cell_type": "code",
      "execution_count": null,
      "metadata": {
        "id": "hqWBZVMMPN6F"
      },
      "outputs": [],
      "source": [
        "lr_reduction = ReduceLROnPlateau(monitor='val_loss', \n",
        "                                            patience=5, \n",
        "                                            verbose=1, \n",
        "                                            factor=0.8, \n",
        "                                            min_lr=0.00001)"
      ]
    },
    {
      "cell_type": "code",
      "execution_count": null,
      "metadata": {
        "colab": {
          "base_uri": "https://localhost:8080/"
        },
        "id": "HlHJ6QJbPN6F",
        "outputId": "82b5c0d5-f51f-4067-a920-41ac4f9877a2"
      },
      "outputs": [
        {
          "name": "stdout",
          "output_type": "stream",
          "text": [
            "Epoch 1/15\n",
            "22/22 [==============================] - 5s 188ms/step - loss: 0.9646 - accuracy: 0.8498 - val_loss: 1.3194 - val_accuracy: 0.7262 - lr: 1.0000e-04\n",
            "Epoch 2/15\n",
            "22/22 [==============================] - 5s 156ms/step - loss: 0.9034 - accuracy: 0.8699 - val_loss: 1.3463 - val_accuracy: 0.6994 - lr: 1.0000e-04\n",
            "Epoch 3/15\n",
            "22/22 [==============================] - 4s 154ms/step - loss: 0.9001 - accuracy: 0.8729 - val_loss: 1.2728 - val_accuracy: 0.7381 - lr: 1.0000e-04\n",
            "Epoch 4/15\n",
            "22/22 [==============================] - 5s 155ms/step - loss: 0.8728 - accuracy: 0.8736 - val_loss: 1.2144 - val_accuracy: 0.7560 - lr: 1.0000e-04\n",
            "Epoch 5/15\n",
            "22/22 [==============================] - 5s 158ms/step - loss: 0.8416 - accuracy: 0.8974 - val_loss: 1.2021 - val_accuracy: 0.7619 - lr: 1.0000e-04\n",
            "Epoch 6/15\n",
            "22/22 [==============================] - 5s 158ms/step - loss: 0.8187 - accuracy: 0.9093 - val_loss: 1.1937 - val_accuracy: 0.7619 - lr: 1.0000e-04\n",
            "Epoch 7/15\n",
            "22/22 [==============================] - 5s 158ms/step - loss: 0.7797 - accuracy: 0.9249 - val_loss: 1.2150 - val_accuracy: 0.7589 - lr: 1.0000e-04\n",
            "Epoch 8/15\n",
            "22/22 [==============================] - 5s 157ms/step - loss: 0.7804 - accuracy: 0.9264 - val_loss: 1.1828 - val_accuracy: 0.7679 - lr: 1.0000e-04\n",
            "Epoch 9/15\n",
            "22/22 [==============================] - 5s 158ms/step - loss: 0.7584 - accuracy: 0.9279 - val_loss: 1.1595 - val_accuracy: 0.7589 - lr: 1.0000e-04\n",
            "Epoch 10/15\n",
            "22/22 [==============================] - 5s 154ms/step - loss: 0.7474 - accuracy: 0.9353 - val_loss: 1.1669 - val_accuracy: 0.7738 - lr: 1.0000e-04\n",
            "Epoch 11/15\n",
            "22/22 [==============================] - 5s 157ms/step - loss: 0.7390 - accuracy: 0.9375 - val_loss: 1.2031 - val_accuracy: 0.7679 - lr: 1.0000e-04\n",
            "Epoch 12/15\n",
            "22/22 [==============================] - 5s 159ms/step - loss: 0.7178 - accuracy: 0.9472 - val_loss: 1.1605 - val_accuracy: 0.7679 - lr: 1.0000e-04\n",
            "Epoch 13/15\n",
            "22/22 [==============================] - 5s 158ms/step - loss: 0.7051 - accuracy: 0.9428 - val_loss: 1.1935 - val_accuracy: 0.7649 - lr: 1.0000e-04\n",
            "Epoch 14/15\n",
            "22/22 [==============================] - 5s 156ms/step - loss: 0.6764 - accuracy: 0.9665 - val_loss: 1.1495 - val_accuracy: 0.7649 - lr: 1.0000e-04\n",
            "Epoch 15/15\n",
            "22/22 [==============================] - 5s 155ms/step - loss: 0.6790 - accuracy: 0.9591 - val_loss: 1.1707 - val_accuracy: 0.7589 - lr: 1.0000e-04\n"
          ]
        },
        {
          "data": {
            "text/plain": [
              "<keras.callbacks.History at 0x7f101093b7c0>"
            ]
          },
          "execution_count": 132,
          "metadata": {},
          "output_type": "execute_result"
        }
      ],
      "source": [
        "model.fit(train_data, epochs=15, validation_data=valid_data, callbacks=[model_checkpoint, lr_reduction], class_weight=class_weight)"
      ]
    },
    {
      "cell_type": "code",
      "execution_count": null,
      "metadata": {
        "colab": {
          "base_uri": "https://localhost:8080/",
          "height": 330
        },
        "id": "kFM-W2ihPN6G",
        "outputId": "8adfeb16-a292-4c50-ff92-77ede2b5c35c"
      },
      "outputs": [
        {
          "name": "stdout",
          "output_type": "stream",
          "text": [
            "6/6 [==============================] - 1s 27ms/step\n"
          ]
        },
        {
          "data": {
            "image/png": "[encoded data removed]",
            "text/plain": [
              "<Figure size 432x288 with 2 Axes>"
            ]
          },
          "metadata": {},
          "output_type": "display_data"
        }
      ],
      "source": [
        "show_confusion_matrix(model, valid_data, valid_labels)"
      ]
    },
    {
      "cell_type": "markdown",
      "metadata": {
        "id": "5_7mNODs5fea"
      },
      "source": [
        "## Inception"
      ]
    },
    {
      "cell_type": "markdown",
      "metadata": {
        "id": "yLjbilnS4xCJ"
      },
      "source": [
        "### Inception Module\n",
        "The inception layer is the core layer in buiilding [Inception Architecture](https://towardsdatascience.com/deep-learning-understand-the-inception-module-56146866e652#:~:text=Happy%20Reading.-,Inception%20Network,details%20of%20the%20inception%20module.)\n",
        "\n",
        "> *This code was adopted from [Deep Learning in the Trenches: Understanding Inception Network from Scratch](https://www.analyticsvidhya.com/blog/2018/10/understanding-inception-network-from-scratch/)*"
      ]
    },
    {
      "cell_type": "code",
      "execution_count": null,
      "metadata": {
        "id": "9e_WO6-t4voZ"
      },
      "outputs": [],
      "source": [
        "alpha = 0.002\n",
        "def inception_module(x,\n",
        "                     filters_1x1,\n",
        "                     filters_3x3_reduce,\n",
        "                     filters_3x3,\n",
        "                     filters_5x5_reduce,\n",
        "                     filters_5x5,\n",
        "                     filters_pool_proj,\n",
        "                     name=None):\n",
        "    \n",
        "    conv_1x1 = Conv2D(filters_1x1, (1, 1), padding='same', activation='leaky_relu', \n",
        "                      kernel_regularizer=keras.regularizers.l2(alpha),\n",
        "                      bias_regularizer=keras.regularizers.l2(alpha))(x)\n",
        "    \n",
        "    conv_3x3 = Conv2D(filters_3x3_reduce, (1, 1), padding='same', activation='leaky_relu',\n",
        "                      kernel_regularizer=keras.regularizers.l2(alpha),\n",
        "                      bias_regularizer=keras.regularizers.l2(alpha))(x)\n",
        "    conv_3x3 = Conv2D(filters_3x3, (3, 3), padding='same', activation='leaky_relu',\n",
        "                      kernel_regularizer=keras.regularizers.l2(alpha),\n",
        "                      bias_regularizer=keras.regularizers.l2(alpha))(conv_3x3)\n",
        "\n",
        "    conv_5x5 = Conv2D(filters_5x5_reduce, (1, 1), padding='same', activation='leaky_relu',\n",
        "                      kernel_regularizer=keras.regularizers.l2(alpha),\n",
        "                      bias_regularizer=keras.regularizers.l2(alpha))(x)\n",
        "    conv_5x5 = Conv2D(filters_5x5, (5, 5), padding='same', activation='leaky_relu',\n",
        "                      kernel_regularizer=keras.regularizers.l2(alpha),\n",
        "                      bias_regularizer=keras.regularizers.l2(alpha))(conv_5x5)\n",
        "\n",
        "    pool_proj = MaxPool2D((3, 3), strides=(1, 1), padding='same')(x)\n",
        "    pool_proj = Conv2D(filters_pool_proj, (1, 1), padding='same', activation='leaky_relu',\n",
        "                      kernel_regularizer=keras.regularizers.l2(alpha),\n",
        "                      bias_regularizer=keras.regularizers.l2(alpha))(pool_proj)\n",
        "\n",
        "    output = concatenate([conv_1x1, conv_3x3, conv_5x5, pool_proj], axis=3, name=name)\n",
        "    \n",
        "    return output"
      ]
    },
    {
      "cell_type": "markdown",
      "metadata": {
        "id": "aJIBW5dy5lL6"
      },
      "source": [
        "### Network"
      ]
    },
    {
      "cell_type": "markdown",
      "metadata": {
        "id": "QPNGU0T4-GWM"
      },
      "source": [
        "#### Original Inception\n",
        "The inception architecture proposed in *GoogLeNet* except that the `relu` activation has been replaced with `leaky_relu` to avoid [Dying Relu problem](https://towardsdatascience.com/the-dying-relu-problem-clearly-explained-42d0c54e0d24#0863)"
      ]
    },
    {
      "cell_type": "code",
      "execution_count": null,
      "metadata": {
        "id": "4laP7UNS5mfj"
      },
      "outputs": [],
      "source": [
        "input_layer = Input(shape=(*IMG_SIZE, COLOR_CHANNELS))\n",
        "\n",
        "x = Conv2D(64, (7, 7), padding='same', strides=(2, 2), activation='leaky_relu', name='conv_1_7x7/2')(input_layer)\n",
        "x = MaxPool2D((3, 3), padding='same', strides=(2, 2), name='max_pool_1_3x3/2')(x)\n",
        "x = Conv2D(64, (1, 1), padding='same', strides=(1, 1), activation='leaky_relu', name='conv_2a_3x3/1')(x)\n",
        "x = Conv2D(192, (3, 3), padding='same', strides=(1, 1), activation='leaky_relu', name='conv_2b_3x3/1')(x)\n",
        "x = MaxPool2D((3, 3), padding='same', strides=(2, 2), name='max_pool_2_3x3/2')(x)\n",
        "\n",
        "x = inception_module(x,\n",
        "                     filters_1x1=64,\n",
        "                     filters_3x3_reduce=96,\n",
        "                     filters_3x3=128,\n",
        "                     filters_5x5_reduce=16,\n",
        "                     filters_5x5=32,\n",
        "                     filters_pool_proj=32,\n",
        "                     name='inception_3a')\n",
        "\n",
        "x = inception_module(x,\n",
        "                     filters_1x1=128,\n",
        "                     filters_3x3_reduce=128,\n",
        "                     filters_3x3=192,\n",
        "                     filters_5x5_reduce=32,\n",
        "                     filters_5x5=96,\n",
        "                     filters_pool_proj=64,\n",
        "                     name='inception_3b')\n",
        "\n",
        "x = MaxPool2D((3, 3), padding='same', strides=(2, 2), name='max_pool_3_3x3/2')(x)\n",
        "\n",
        "x = inception_module(x,\n",
        "                     filters_1x1=192,\n",
        "                     filters_3x3_reduce=96,\n",
        "                     filters_3x3=208,\n",
        "                     filters_5x5_reduce=16,\n",
        "                     filters_5x5=48,\n",
        "                     filters_pool_proj=64,\n",
        "                     name='inception_4a')\n",
        "\n",
        "x = inception_module(x,\n",
        "                     filters_1x1=160,\n",
        "                     filters_3x3_reduce=112,\n",
        "                     filters_3x3=224,\n",
        "                     filters_5x5_reduce=24,\n",
        "                     filters_5x5=64,\n",
        "                     filters_pool_proj=64,\n",
        "                     name='inception_4b')\n",
        "\n",
        "x = inception_module(x,\n",
        "                     filters_1x1=128,\n",
        "                     filters_3x3_reduce=128,\n",
        "                     filters_3x3=256,\n",
        "                     filters_5x5_reduce=24,\n",
        "                     filters_5x5=64,\n",
        "                     filters_pool_proj=64,\n",
        "                     name='inception_4c')\n",
        "\n",
        "x = inception_module(x,\n",
        "                     filters_1x1=112,\n",
        "                     filters_3x3_reduce=144,\n",
        "                     filters_3x3=288,\n",
        "                     filters_5x5_reduce=32,\n",
        "                     filters_5x5=64,\n",
        "                     filters_pool_proj=64,\n",
        "                     name='inception_4d')\n",
        "\n",
        "\n",
        "x = inception_module(x,\n",
        "                     filters_1x1=256,\n",
        "                     filters_3x3_reduce=160,\n",
        "                     filters_3x3=320,\n",
        "                     filters_5x5_reduce=32,\n",
        "                     filters_5x5=128,\n",
        "                     filters_pool_proj=128,\n",
        "                     name='inception_4e')\n",
        "\n",
        "x = MaxPool2D((3, 3), padding='same', strides=(2, 2), name='max_pool_4_3x3/2')(x)\n",
        "\n",
        "x = inception_module(x,\n",
        "                     filters_1x1=256,\n",
        "                     filters_3x3_reduce=160,\n",
        "                     filters_3x3=320,\n",
        "                     filters_5x5_reduce=32,\n",
        "                     filters_5x5=128,\n",
        "                     filters_pool_proj=128,\n",
        "                     name='inception_5a')\n",
        "\n",
        "x = inception_module(x,\n",
        "                     filters_1x1=384,\n",
        "                     filters_3x3_reduce=192,\n",
        "                     filters_3x3=384,\n",
        "                     filters_5x5_reduce=48,\n",
        "                     filters_5x5=128,\n",
        "                     filters_pool_proj=128,\n",
        "                     name='inception_5b')\n",
        "\n",
        "x = GlobalAveragePooling2D(name='avg_pool_5_3x3/1')(x)\n",
        "\n",
        "x = Dropout(0.4)(x)\n",
        "\n",
        "x = Dense(CLASS_COUNT, activation='softmax', name='output')(x)"
      ]
    },
    {
      "cell_type": "code",
      "execution_count": null,
      "metadata": {
        "id": "VZ2V3-nP-23z"
      },
      "outputs": [],
      "source": [
        "orig_inception = Model(input_layer, x, name='inception_v1')"
      ]
    },
    {
      "cell_type": "code",
      "execution_count": null,
      "metadata": {
        "id": "8q_O79kn-9I7"
      },
      "outputs": [],
      "source": [
        "orig_inception.compile(keras.optimizers.Adam(learning_rate=0.0001),\n",
        "              loss=keras.losses.SparseCategoricalCrossentropy(), metrics=['accuracy'])"
      ]
    },
    {
      "cell_type": "code",
      "execution_count": null,
      "metadata": {
        "colab": {
          "base_uri": "https://localhost:8080/"
        },
        "id": "Q0hbvWPH_CTY",
        "outputId": "32b59be7-cca8-4229-97b3-3cb4b6fc8236"
      },
      "outputs": [
        {
          "name": "stdout",
          "output_type": "stream",
          "text": [
            "Model: \"inception_v1\"\n",
            "__________________________________________________________________________________________________\n",
            " Layer (type)                   Output Shape         Param #     Connected to                     \n",
            "==================================================================================================\n",
            " input_1 (InputLayer)           [(None, 224, 224, 3  0           []                               \n",
            "                                )]                                                                \n",
            "                                                                                                  \n",
            " conv_1_7x7/2 (Conv2D)          (None, 112, 112, 64  9472        ['input_1[0][0]']                \n",
            "                                )                                                                 \n",
            "                                                                                                  \n",
            " max_pool_1_3x3/2 (MaxPooling2D  (None, 56, 56, 64)  0           ['conv_1_7x7/2[0][0]']           \n",
            " )                                                                                                \n",
            "                                                                                                  \n",
            " conv_2a_3x3/1 (Conv2D)         (None, 56, 56, 64)   4160        ['max_pool_1_3x3/2[0][0]']       \n",
            "                                                                                                  \n",
            " conv_2b_3x3/1 (Conv2D)         (None, 56, 56, 192)  110784      ['conv_2a_3x3/1[0][0]']          \n",
            "                                                                                                  \n",
            " max_pool_2_3x3/2 (MaxPooling2D  (None, 28, 28, 192)  0          ['conv_2b_3x3/1[0][0]']          \n",
            " )                                                                                                \n",
            "                                                                                                  \n",
            " conv2d_1 (Conv2D)              (None, 28, 28, 96)   18528       ['max_pool_2_3x3/2[0][0]']       \n",
            "                                                                                                  \n",
            " conv2d_3 (Conv2D)              (None, 28, 28, 16)   3088        ['max_pool_2_3x3/2[0][0]']       \n",
            "                                                                                                  \n",
            " max_pooling2d (MaxPooling2D)   (None, 28, 28, 192)  0           ['max_pool_2_3x3/2[0][0]']       \n",
            "                                                                                                  \n",
            " conv2d (Conv2D)                (None, 28, 28, 64)   12352       ['max_pool_2_3x3/2[0][0]']       \n",
            "                                                                                                  \n",
            " conv2d_2 (Conv2D)              (None, 28, 28, 128)  110720      ['conv2d_1[0][0]']               \n",
            "                                                                                                  \n",
            " conv2d_4 (Conv2D)              (None, 28, 28, 32)   12832       ['conv2d_3[0][0]']               \n",
            "                                                                                                  \n",
            " conv2d_5 (Conv2D)              (None, 28, 28, 32)   6176        ['max_pooling2d[0][0]']          \n",
            "                                                                                                  \n",
            " inception_3a (Concatenate)     (None, 28, 28, 256)  0           ['conv2d[0][0]',                 \n",
            "                                                                  'conv2d_2[0][0]',               \n",
            "                                                                  'conv2d_4[0][0]',               \n",
            "                                                                  'conv2d_5[0][0]']               \n",
            "                                                                                                  \n",
            " conv2d_7 (Conv2D)              (None, 28, 28, 128)  32896       ['inception_3a[0][0]']           \n",
            "                                                                                                  \n",
            " conv2d_9 (Conv2D)              (None, 28, 28, 32)   8224        ['inception_3a[0][0]']           \n",
            "                                                                                                  \n",
            " max_pooling2d_1 (MaxPooling2D)  (None, 28, 28, 256)  0          ['inception_3a[0][0]']           \n",
            "                                                                                                  \n",
            " conv2d_6 (Conv2D)              (None, 28, 28, 128)  32896       ['inception_3a[0][0]']           \n",
            "                                                                                                  \n",
            " conv2d_8 (Conv2D)              (None, 28, 28, 192)  221376      ['conv2d_7[0][0]']               \n",
            "                                                                                                  \n",
            " conv2d_10 (Conv2D)             (None, 28, 28, 96)   76896       ['conv2d_9[0][0]']               \n",
            "                                                                                                  \n",
            " conv2d_11 (Conv2D)             (None, 28, 28, 64)   16448       ['max_pooling2d_1[0][0]']        \n",
            "                                                                                                  \n",
            " inception_3b (Concatenate)     (None, 28, 28, 480)  0           ['conv2d_6[0][0]',               \n",
            "                                                                  'conv2d_8[0][0]',               \n",
            "                                                                  'conv2d_10[0][0]',              \n",
            "                                                                  'conv2d_11[0][0]']              \n",
            "                                                                                                  \n",
            " max_pool_3_3x3/2 (MaxPooling2D  (None, 14, 14, 480)  0          ['inception_3b[0][0]']           \n",
            " )                                                                                                \n",
            "                                                                                                  \n",
            " conv2d_13 (Conv2D)             (None, 14, 14, 96)   46176       ['max_pool_3_3x3/2[0][0]']       \n",
            "                                                                                                  \n",
            " conv2d_15 (Conv2D)             (None, 14, 14, 16)   7696        ['max_pool_3_3x3/2[0][0]']       \n",
            "                                                                                                  \n",
            " max_pooling2d_2 (MaxPooling2D)  (None, 14, 14, 480)  0          ['max_pool_3_3x3/2[0][0]']       \n",
            "                                                                                                  \n",
            " conv2d_12 (Conv2D)             (None, 14, 14, 192)  92352       ['max_pool_3_3x3/2[0][0]']       \n",
            "                                                                                                  \n",
            " conv2d_14 (Conv2D)             (None, 14, 14, 208)  179920      ['conv2d_13[0][0]']              \n",
            "                                                                                                  \n",
            " conv2d_16 (Conv2D)             (None, 14, 14, 48)   19248       ['conv2d_15[0][0]']              \n",
            "                                                                                                  \n",
            " conv2d_17 (Conv2D)             (None, 14, 14, 64)   30784       ['max_pooling2d_2[0][0]']        \n",
            "                                                                                                  \n",
            " inception_4a (Concatenate)     (None, 14, 14, 512)  0           ['conv2d_12[0][0]',              \n",
            "                                                                  'conv2d_14[0][0]',              \n",
            "                                                                  'conv2d_16[0][0]',              \n",
            "                                                                  'conv2d_17[0][0]']              \n",
            "                                                                                                  \n",
            " conv2d_19 (Conv2D)             (None, 14, 14, 112)  57456       ['inception_4a[0][0]']           \n",
            "                                                                                                  \n",
            " conv2d_21 (Conv2D)             (None, 14, 14, 24)   12312       ['inception_4a[0][0]']           \n",
            "                                                                                                  \n",
            " max_pooling2d_3 (MaxPooling2D)  (None, 14, 14, 512)  0          ['inception_4a[0][0]']           \n",
            "                                                                                                  \n",
            " conv2d_18 (Conv2D)             (None, 14, 14, 160)  82080       ['inception_4a[0][0]']           \n",
            "                                                                                                  \n",
            " conv2d_20 (Conv2D)             (None, 14, 14, 224)  226016      ['conv2d_19[0][0]']              \n",
            "                                                                                                  \n",
            " conv2d_22 (Conv2D)             (None, 14, 14, 64)   38464       ['conv2d_21[0][0]']              \n",
            "                                                                                                  \n",
            " conv2d_23 (Conv2D)             (None, 14, 14, 64)   32832       ['max_pooling2d_3[0][0]']        \n",
            "                                                                                                  \n",
            " inception_4b (Concatenate)     (None, 14, 14, 512)  0           ['conv2d_18[0][0]',              \n",
            "                                                                  'conv2d_20[0][0]',              \n",
            "                                                                  'conv2d_22[0][0]',              \n",
            "                                                                  'conv2d_23[0][0]']              \n",
            "                                                                                                  \n",
            " conv2d_25 (Conv2D)             (None, 14, 14, 128)  65664       ['inception_4b[0][0]']           \n",
            "                                                                                                  \n",
            " conv2d_27 (Conv2D)             (None, 14, 14, 24)   12312       ['inception_4b[0][0]']           \n",
            "                                                                                                  \n",
            " max_pooling2d_4 (MaxPooling2D)  (None, 14, 14, 512)  0          ['inception_4b[0][0]']           \n",
            "                                                                                                  \n",
            " conv2d_24 (Conv2D)             (None, 14, 14, 128)  65664       ['inception_4b[0][0]']           \n",
            "                                                                                                  \n",
            " conv2d_26 (Conv2D)             (None, 14, 14, 256)  295168      ['conv2d_25[0][0]']              \n",
            "                                                                                                  \n",
            " conv2d_28 (Conv2D)             (None, 14, 14, 64)   38464       ['conv2d_27[0][0]']              \n",
            "                                                                                                  \n",
            " conv2d_29 (Conv2D)             (None, 14, 14, 64)   32832       ['max_pooling2d_4[0][0]']        \n",
            "                                                                                                  \n",
            " inception_4c (Concatenate)     (None, 14, 14, 512)  0           ['conv2d_24[0][0]',              \n",
            "                                                                  'conv2d_26[0][0]',              \n",
            "                                                                  'conv2d_28[0][0]',              \n",
            "                                                                  'conv2d_29[0][0]']              \n",
            "                                                                                                  \n",
            " conv2d_31 (Conv2D)             (None, 14, 14, 144)  73872       ['inception_4c[0][0]']           \n",
            "                                                                                                  \n",
            " conv2d_33 (Conv2D)             (None, 14, 14, 32)   16416       ['inception_4c[0][0]']           \n",
            "                                                                                                  \n",
            " max_pooling2d_5 (MaxPooling2D)  (None, 14, 14, 512)  0          ['inception_4c[0][0]']           \n",
            "                                                                                                  \n",
            " conv2d_30 (Conv2D)             (None, 14, 14, 112)  57456       ['inception_4c[0][0]']           \n",
            "                                                                                                  \n",
            " conv2d_32 (Conv2D)             (None, 14, 14, 288)  373536      ['conv2d_31[0][0]']              \n",
            "                                                                                                  \n",
            " conv2d_34 (Conv2D)             (None, 14, 14, 64)   51264       ['conv2d_33[0][0]']              \n",
            "                                                                                                  \n",
            " conv2d_35 (Conv2D)             (None, 14, 14, 64)   32832       ['max_pooling2d_5[0][0]']        \n",
            "                                                                                                  \n",
            " inception_4d (Concatenate)     (None, 14, 14, 528)  0           ['conv2d_30[0][0]',              \n",
            "                                                                  'conv2d_32[0][0]',              \n",
            "                                                                  'conv2d_34[0][0]',              \n",
            "                                                                  'conv2d_35[0][0]']              \n",
            "                                                                                                  \n",
            " conv2d_37 (Conv2D)             (None, 14, 14, 160)  84640       ['inception_4d[0][0]']           \n",
            "                                                                                                  \n",
            " conv2d_39 (Conv2D)             (None, 14, 14, 32)   16928       ['inception_4d[0][0]']           \n",
            "                                                                                                  \n",
            " max_pooling2d_6 (MaxPooling2D)  (None, 14, 14, 528)  0          ['inception_4d[0][0]']           \n",
            "                                                                                                  \n",
            " conv2d_36 (Conv2D)             (None, 14, 14, 256)  135424      ['inception_4d[0][0]']           \n",
            "                                                                                                  \n",
            " conv2d_38 (Conv2D)             (None, 14, 14, 320)  461120      ['conv2d_37[0][0]']              \n",
            "                                                                                                  \n",
            " conv2d_40 (Conv2D)             (None, 14, 14, 128)  102528      ['conv2d_39[0][0]']              \n",
            "                                                                                                  \n",
            " conv2d_41 (Conv2D)             (None, 14, 14, 128)  67712       ['max_pooling2d_6[0][0]']        \n",
            "                                                                                                  \n",
            " inception_4e (Concatenate)     (None, 14, 14, 832)  0           ['conv2d_36[0][0]',              \n",
            "                                                                  'conv2d_38[0][0]',              \n",
            "                                                                  'conv2d_40[0][0]',              \n",
            "                                                                  'conv2d_41[0][0]']              \n",
            "                                                                                                  \n",
            " max_pool_4_3x3/2 (MaxPooling2D  (None, 7, 7, 832)   0           ['inception_4e[0][0]']           \n",
            " )                                                                                                \n",
            "                                                                                                  \n",
            " conv2d_43 (Conv2D)             (None, 7, 7, 160)    133280      ['max_pool_4_3x3/2[0][0]']       \n",
            "                                                                                                  \n",
            " conv2d_45 (Conv2D)             (None, 7, 7, 32)     26656       ['max_pool_4_3x3/2[0][0]']       \n",
            "                                                                                                  \n",
            " max_pooling2d_7 (MaxPooling2D)  (None, 7, 7, 832)   0           ['max_pool_4_3x3/2[0][0]']       \n",
            "                                                                                                  \n",
            " conv2d_42 (Conv2D)             (None, 7, 7, 256)    213248      ['max_pool_4_3x3/2[0][0]']       \n",
            "                                                                                                  \n",
            " conv2d_44 (Conv2D)             (None, 7, 7, 320)    461120      ['conv2d_43[0][0]']              \n",
            "                                                                                                  \n",
            " conv2d_46 (Conv2D)             (None, 7, 7, 128)    102528      ['conv2d_45[0][0]']              \n",
            "                                                                                                  \n",
            " conv2d_47 (Conv2D)             (None, 7, 7, 128)    106624      ['max_pooling2d_7[0][0]']        \n",
            "                                                                                                  \n",
            " inception_5a (Concatenate)     (None, 7, 7, 832)    0           ['conv2d_42[0][0]',              \n",
            "                                                                  'conv2d_44[0][0]',              \n",
            "                                                                  'conv2d_46[0][0]',              \n",
            "                                                                  'conv2d_47[0][0]']              \n",
            "                                                                                                  \n",
            " conv2d_49 (Conv2D)             (None, 7, 7, 192)    159936      ['inception_5a[0][0]']           \n",
            "                                                                                                  \n",
            " conv2d_51 (Conv2D)             (None, 7, 7, 48)     39984       ['inception_5a[0][0]']           \n",
            "                                                                                                  \n",
            " max_pooling2d_8 (MaxPooling2D)  (None, 7, 7, 832)   0           ['inception_5a[0][0]']           \n",
            "                                                                                                  \n",
            " conv2d_48 (Conv2D)             (None, 7, 7, 384)    319872      ['inception_5a[0][0]']           \n",
            "                                                                                                  \n",
            " conv2d_50 (Conv2D)             (None, 7, 7, 384)    663936      ['conv2d_49[0][0]']              \n",
            "                                                                                                  \n",
            " conv2d_52 (Conv2D)             (None, 7, 7, 128)    153728      ['conv2d_51[0][0]']              \n",
            "                                                                                                  \n",
            " conv2d_53 (Conv2D)             (None, 7, 7, 128)    106624      ['max_pooling2d_8[0][0]']        \n",
            "                                                                                                  \n",
            " inception_5b (Concatenate)     (None, 7, 7, 1024)   0           ['conv2d_48[0][0]',              \n",
            "                                                                  'conv2d_50[0][0]',              \n",
            "                                                                  'conv2d_52[0][0]',              \n",
            "                                                                  'conv2d_53[0][0]']              \n",
            "                                                                                                  \n",
            " avg_pool_5_3x3/1 (GlobalAverag  (None, 1024)        0           ['inception_5b[0][0]']           \n",
            " ePooling2D)                                                                                      \n",
            "                                                                                                  \n",
            " dropout (Dropout)              (None, 1024)         0           ['avg_pool_5_3x3/1[0][0]']       \n",
            "                                                                                                  \n",
            " output (Dense)                 (None, 6)            6150        ['dropout[0][0]']                \n",
            "                                                                                                  \n",
            "==================================================================================================\n",
            "Total params: 5,979,702\n",
            "Trainable params: 5,979,702\n",
            "Non-trainable params: 0\n",
            "__________________________________________________________________________________________________\n"
          ]
        }
      ],
      "source": [
        "orig_inception.summary()"
      ]
    },
    {
      "cell_type": "code",
      "execution_count": null,
      "metadata": {
        "id": "SKt0wQpc_Hem"
      },
      "outputs": [],
      "source": [
        "model_checkpoint = keras.callbacks.ModelCheckpoint(\"checkpoints/orig_incep-e{epoch:02d}-acc{val_accuracy:.2f}.hdf5\",\n",
        "                                                   monitor=\"val_accuracy\",\n",
        "                                                   save_best_only = True,\n",
        "                                                   initial_value_threshold=0.85)"
      ]
    },
    {
      "cell_type": "code",
      "execution_count": null,
      "metadata": {
        "id": "ozK3o0nU_Riy"
      },
      "outputs": [],
      "source": [
        "lr_reduction = ReduceLROnPlateau(monitor='val_loss', \n",
        "                                            patience=5, \n",
        "                                            verbose=1, \n",
        "                                            factor=0.8, \n",
        "                                            min_lr=0.00001)"
      ]
    },
    {
      "cell_type": "code",
      "execution_count": null,
      "metadata": {
        "id": "G1TG0EtR_UVq"
      },
      "outputs": [],
      "source": [
        "orig_inception.fit(train_data, epochs=2, validation_data=valid_data, callbacks=[model_checkpoint, lr_reduction])"
      ]
    },
    {
      "cell_type": "markdown",
      "metadata": {
        "id": "4QXwYBKM_gcK"
      },
      "source": [
        "Evaluating"
      ]
    },
    {
      "cell_type": "code",
      "execution_count": null,
      "metadata": {
        "colab": {
          "base_uri": "https://localhost:8080/",
          "height": 330
        },
        "id": "lhlOk1L1AkKY",
        "outputId": "2df40d30-3e87-4fce-a37d-fd49f228497c"
      },
      "outputs": [
        {
          "name": "stdout",
          "output_type": "stream",
          "text": [
            "6/6 [==============================] - 16s 2s/step\n"
          ]
        },
        {
          "data": {
            "image/png": "[encoded data removed]",
            "text/plain": [
              "<Figure size 432x288 with 2 Axes>"
            ]
          },
          "metadata": {},
          "output_type": "display_data"
        }
      ],
      "source": [
        "show_confusion_matrix(orig_inception, valid_data, valid_labels)"
      ]
    },
    {
      "cell_type": "code",
      "execution_count": null,
      "metadata": {
        "id": "cGZV-jebKMG6"
      },
      "outputs": [],
      "source": []
    },
    {
      "cell_type": "markdown",
      "metadata": {
        "id": "k1woPvnLLE_M"
      },
      "source": [
        "#### Modified Architecture"
      ]
    },
    {
      "cell_type": "code",
      "execution_count": null,
      "metadata": {
        "id": "xTTVasr6LKF9"
      },
      "outputs": [],
      "source": [
        "input_layer = Input(shape=(*IMG_SIZE, COLOR_CHANNELS))\n",
        "\n",
        "x = Conv2D(16, (5, 5), padding='same', strides=(2, 2), activation='leaky_relu', name='conv_1_7x7/2')(input_layer)\n",
        "x = MaxPool2D((3, 3), padding='same', strides=(2, 2), name='max_pool_1_3x3/2')(x)\n",
        "x = Conv2D(32, (1, 1), padding='same', strides=(1, 1), activation='leaky_relu', name='conv_2a_3x3/1')(x)\n",
        "x = Conv2D(64, (3, 3), padding='same', strides=(1, 1), activation='leaky_relu', name='conv_2b_3x3/1')(x)\n",
        "x = MaxPool2D((3, 3), padding='same', strides=(2, 2), name='max_pool_2_3x3/2')(x)\n",
        "\n",
        "x = inception_module(x,\n",
        "                     filters_1x1=16,\n",
        "                     filters_3x3_reduce=24,\n",
        "                     filters_3x3=32,\n",
        "                     filters_5x5_reduce=8,\n",
        "                     filters_5x5=16,\n",
        "                     filters_pool_proj=16,\n",
        "                     name='inception_3a')\n",
        "\n",
        "x = MaxPool2D((3, 3), padding='same', strides=(4, 4), name='max_pool_3_3x3/2')(x)\n",
        "\n",
        "x = inception_module(x,\n",
        "                     filters_1x1=64,\n",
        "                     filters_3x3_reduce=96,\n",
        "                     filters_3x3=128,\n",
        "                     filters_5x5_reduce=32,\n",
        "                     filters_5x5=48,\n",
        "                     filters_pool_proj=64,\n",
        "                     name='inception_4a')\n",
        "\n",
        "x = GlobalAveragePooling2D(name='avg_pool_5_3x3/1')(x)\n",
        "\n",
        "x = Dropout(0.4)(x)\n",
        "\n",
        "x = Dense(32, activation='leaky_relu', name='dense_1')(x)\n",
        "\n",
        "x = Dropout(0.2)(x)\n",
        "\n",
        "x = Dense(CLASS_COUNT, activation='leaky_relu', name='output')(x)\n",
        "\n",
        "modified_incep = keras.models.Model(input_layer, [x], name=\"inception\")"
      ]
    },
    {
      "cell_type": "code",
      "execution_count": null,
      "metadata": {
        "id": "-1fUde_nL2Bp"
      },
      "outputs": [],
      "source": [
        "modified_incep = Model(input_layer, x, name='mini_inception')"
      ]
    },
    {
      "cell_type": "code",
      "execution_count": null,
      "metadata": {
        "id": "3JOuizPWMWef"
      },
      "outputs": [],
      "source": [
        "apply_weight_decay(modified_incep)"
      ]
    },
    {
      "cell_type": "code",
      "execution_count": null,
      "metadata": {
        "id": "-wIUKOtdMGKZ"
      },
      "outputs": [],
      "source": [
        "modified_incep.compile(keras.optimizers.Adam(learning_rate=0.00005),\n",
        "              loss=keras.losses.SparseCategoricalCrossentropy(from_logits=True), metrics=['accuracy'])"
      ]
    },
    {
      "cell_type": "code",
      "execution_count": null,
      "metadata": {
        "colab": {
          "base_uri": "https://localhost:8080/"
        },
        "id": "wng4MraIMGKZ",
        "outputId": "20529f76-10b0-4b5b-9f09-4ce95d0e4459"
      },
      "outputs": [
        {
          "name": "stdout",
          "output_type": "stream",
          "text": [
            "Model: \"mini_inception\"\n",
            "__________________________________________________________________________________________________\n",
            " Layer (type)                   Output Shape         Param #     Connected to                     \n",
            "==================================================================================================\n",
            " input_6 (InputLayer)           [(None, 224, 224, 3  0           []                               \n",
            "                                )]                                                                \n",
            "                                                                                                  \n",
            " conv_1_7x7/2 (Conv2D)          (None, 112, 112, 16  1216        ['input_6[0][0]']                \n",
            "                                )                                                                 \n",
            "                                                                                                  \n",
            " max_pool_1_3x3/2 (MaxPooling2D  (None, 56, 56, 16)  0           ['conv_1_7x7/2[0][0]']           \n",
            " )                                                                                                \n",
            "                                                                                                  \n",
            " conv_2a_3x3/1 (Conv2D)         (None, 56, 56, 32)   544         ['max_pool_1_3x3/2[0][0]']       \n",
            "                                                                                                  \n",
            " conv_2b_3x3/1 (Conv2D)         (None, 56, 56, 64)   18496       ['conv_2a_3x3/1[0][0]']          \n",
            "                                                                                                  \n",
            " max_pool_2_3x3/2 (MaxPooling2D  (None, 28, 28, 64)  0           ['conv_2b_3x3/1[0][0]']          \n",
            " )                                                                                                \n",
            "                                                                                                  \n",
            " conv2d_137 (Conv2D)            (None, 28, 28, 24)   1560        ['max_pool_2_3x3/2[0][0]']       \n",
            "                                                                                                  \n",
            " conv2d_139 (Conv2D)            (None, 28, 28, 8)    520         ['max_pool_2_3x3/2[0][0]']       \n",
            "                                                                                                  \n",
            " max_pooling2d_51 (MaxPooling2D  (None, 28, 28, 64)  0           ['max_pool_2_3x3/2[0][0]']       \n",
            " )                                                                                                \n",
            "                                                                                                  \n",
            " conv2d_136 (Conv2D)            (None, 28, 28, 16)   1040        ['max_pool_2_3x3/2[0][0]']       \n",
            "                                                                                                  \n",
            " conv2d_138 (Conv2D)            (None, 28, 28, 32)   6944        ['conv2d_137[0][0]']             \n",
            "                                                                                                  \n",
            " conv2d_140 (Conv2D)            (None, 28, 28, 16)   3216        ['conv2d_139[0][0]']             \n",
            "                                                                                                  \n",
            " conv2d_141 (Conv2D)            (None, 28, 28, 16)   1040        ['max_pooling2d_51[0][0]']       \n",
            "                                                                                                  \n",
            " inception_3a (Concatenate)     (None, 28, 28, 80)   0           ['conv2d_136[0][0]',             \n",
            "                                                                  'conv2d_138[0][0]',             \n",
            "                                                                  'conv2d_140[0][0]',             \n",
            "                                                                  'conv2d_141[0][0]']             \n",
            "                                                                                                  \n",
            " max_pool_3_3x3/2 (MaxPooling2D  (None, 7, 7, 80)    0           ['inception_3a[0][0]']           \n",
            " )                                                                                                \n",
            "                                                                                                  \n",
            " conv2d_143 (Conv2D)            (None, 7, 7, 96)     7776        ['max_pool_3_3x3/2[0][0]']       \n",
            "                                                                                                  \n",
            " conv2d_145 (Conv2D)            (None, 7, 7, 32)     2592        ['max_pool_3_3x3/2[0][0]']       \n",
            "                                                                                                  \n",
            " max_pooling2d_52 (MaxPooling2D  (None, 7, 7, 80)    0           ['max_pool_3_3x3/2[0][0]']       \n",
            " )                                                                                                \n",
            "                                                                                                  \n",
            " conv2d_142 (Conv2D)            (None, 7, 7, 64)     5184        ['max_pool_3_3x3/2[0][0]']       \n",
            "                                                                                                  \n",
            " conv2d_144 (Conv2D)            (None, 7, 7, 128)    110720      ['conv2d_143[0][0]']             \n",
            "                                                                                                  \n",
            " conv2d_146 (Conv2D)            (None, 7, 7, 48)     38448       ['conv2d_145[0][0]']             \n",
            "                                                                                                  \n",
            " conv2d_147 (Conv2D)            (None, 7, 7, 64)     5184        ['max_pooling2d_52[0][0]']       \n",
            "                                                                                                  \n",
            " inception_4a (Concatenate)     (None, 7, 7, 304)    0           ['conv2d_142[0][0]',             \n",
            "                                                                  'conv2d_144[0][0]',             \n",
            "                                                                  'conv2d_146[0][0]',             \n",
            "                                                                  'conv2d_147[0][0]']             \n",
            "                                                                                                  \n",
            " avg_pool_5_3x3/1 (GlobalAverag  (None, 304)         0           ['inception_4a[0][0]']           \n",
            " ePooling2D)                                                                                      \n",
            "                                                                                                  \n",
            " dropout_35 (Dropout)           (None, 304)          0           ['avg_pool_5_3x3/1[0][0]']       \n",
            "                                                                                                  \n",
            " dense_1 (Dense)                (None, 32)           9760        ['dropout_35[0][0]']             \n",
            "                                                                                                  \n",
            " dropout_36 (Dropout)           (None, 32)           0           ['dense_1[0][0]']                \n",
            "                                                                                                  \n",
            " output (Dense)                 (None, 6)            198         ['dropout_36[0][0]']             \n",
            "                                                                                                  \n",
            "==================================================================================================\n",
            "Total params: 214,438\n",
            "Trainable params: 214,438\n",
            "Non-trainable params: 0\n",
            "__________________________________________________________________________________________________\n"
          ]
        }
      ],
      "source": [
        "modified_incep.summary()"
      ]
    },
    {
      "cell_type": "code",
      "execution_count": null,
      "metadata": {
        "id": "aG2Qrg4ZMGKZ"
      },
      "outputs": [],
      "source": [
        "model_checkpoint = keras.callbacks.ModelCheckpoint(\"checkpoints/modified_incep-e{epoch:02d}-acc{val_accuracy:.2f}.hdf5\",\n",
        "                                                   monitor=\"val_accuracy\",\n",
        "                                                   save_best_only = True,\n",
        "                                                   initial_value_threshold=0.85)"
      ]
    },
    {
      "cell_type": "code",
      "execution_count": null,
      "metadata": {
        "id": "Lo3bfJgXMGKa"
      },
      "outputs": [],
      "source": [
        "lr_reduction = ReduceLROnPlateau(monitor='val_loss', \n",
        "                                            patience=5, \n",
        "                                            verbose=1, \n",
        "                                            factor=0.8, \n",
        "                                            min_lr=0.00001)"
      ]
    },
    {
      "cell_type": "code",
      "execution_count": null,
      "metadata": {
        "colab": {
          "base_uri": "https://localhost:8080/"
        },
        "id": "MEiDuVLPMGKa",
        "outputId": "b07886e7-4b5b-4445-e01e-1670095a36e2"
      },
      "outputs": [
        {
          "name": "stdout",
          "output_type": "stream",
          "text": [
            "Epoch 1/40\n",
            "22/22 [==============================] - 5s 159ms/step - loss: 3.2257 - accuracy: 0.6565 - val_loss: 3.1023 - val_accuracy: 0.6875 - lr: 4.0000e-05\n",
            "Epoch 2/40\n",
            "22/22 [==============================] - 5s 156ms/step - loss: 3.2303 - accuracy: 0.6721 - val_loss: 3.0748 - val_accuracy: 0.7113 - lr: 4.0000e-05\n",
            "Epoch 3/40\n",
            "22/22 [==============================] - 5s 159ms/step - loss: 3.2167 - accuracy: 0.6461 - val_loss: 3.0126 - val_accuracy: 0.7381 - lr: 4.0000e-05\n",
            "Epoch 4/40\n",
            "22/22 [==============================] - 5s 159ms/step - loss: 3.2276 - accuracy: 0.6617 - val_loss: 3.1109 - val_accuracy: 0.6935 - lr: 4.0000e-05\n",
            "Epoch 5/40\n",
            "22/22 [==============================] - 5s 157ms/step - loss: 3.2314 - accuracy: 0.6513 - val_loss: 3.0337 - val_accuracy: 0.7202 - lr: 4.0000e-05\n",
            "Epoch 6/40\n",
            "22/22 [==============================] - 5s 159ms/step - loss: 3.1640 - accuracy: 0.6706 - val_loss: 3.0465 - val_accuracy: 0.7143 - lr: 4.0000e-05\n",
            "Epoch 7/40\n",
            "22/22 [==============================] - 5s 157ms/step - loss: 3.1870 - accuracy: 0.6781 - val_loss: 3.0257 - val_accuracy: 0.7411 - lr: 4.0000e-05\n",
            "Epoch 8/40\n",
            "21/22 [===========================>..] - ETA: 0s - loss: 3.2323 - accuracy: 0.6629\n",
            "Epoch 8: ReduceLROnPlateau reducing learning rate to 3.199999919161201e-05.\n",
            "22/22 [==============================] - 5s 158ms/step - loss: 3.2323 - accuracy: 0.6632 - val_loss: 3.0834 - val_accuracy: 0.7054 - lr: 4.0000e-05\n",
            "Epoch 9/40\n",
            "22/22 [==============================] - 5s 156ms/step - loss: 3.2307 - accuracy: 0.6587 - val_loss: 3.0125 - val_accuracy: 0.7381 - lr: 3.2000e-05\n",
            "Epoch 10/40\n",
            "22/22 [==============================] - 5s 156ms/step - loss: 3.1409 - accuracy: 0.6892 - val_loss: 3.0025 - val_accuracy: 0.7262 - lr: 3.2000e-05\n",
            "Epoch 11/40\n",
            "22/22 [==============================] - 5s 158ms/step - loss: 3.1583 - accuracy: 0.6721 - val_loss: 3.0349 - val_accuracy: 0.7232 - lr: 3.2000e-05\n",
            "Epoch 12/40\n",
            "22/22 [==============================] - 5s 156ms/step - loss: 3.1441 - accuracy: 0.6914 - val_loss: 3.0080 - val_accuracy: 0.7262 - lr: 3.2000e-05\n",
            "Epoch 13/40\n",
            "22/22 [==============================] - 4s 156ms/step - loss: 3.1460 - accuracy: 0.6825 - val_loss: 2.9842 - val_accuracy: 0.7351 - lr: 3.2000e-05\n",
            "Epoch 14/40\n",
            "22/22 [==============================] - 5s 158ms/step - loss: 3.1334 - accuracy: 0.6907 - val_loss: 3.0012 - val_accuracy: 0.7113 - lr: 3.2000e-05\n",
            "Epoch 15/40\n",
            "22/22 [==============================] - 5s 158ms/step - loss: 3.1313 - accuracy: 0.6900 - val_loss: 2.9942 - val_accuracy: 0.7321 - lr: 3.2000e-05\n",
            "Epoch 16/40\n",
            "22/22 [==============================] - 5s 157ms/step - loss: 3.1144 - accuracy: 0.6974 - val_loss: 2.9793 - val_accuracy: 0.7292 - lr: 3.2000e-05\n",
            "Epoch 17/40\n",
            "22/22 [==============================] - 5s 159ms/step - loss: 3.1429 - accuracy: 0.6892 - val_loss: 3.0400 - val_accuracy: 0.7173 - lr: 3.2000e-05\n",
            "Epoch 18/40\n",
            "22/22 [==============================] - 5s 157ms/step - loss: 3.1170 - accuracy: 0.6989 - val_loss: 3.0012 - val_accuracy: 0.7143 - lr: 3.2000e-05\n",
            "Epoch 19/40\n",
            "22/22 [==============================] - 5s 158ms/step - loss: 3.0692 - accuracy: 0.6892 - val_loss: 2.9499 - val_accuracy: 0.7381 - lr: 3.2000e-05\n",
            "Epoch 20/40\n",
            "22/22 [==============================] - 5s 158ms/step - loss: 3.0862 - accuracy: 0.7026 - val_loss: 2.9942 - val_accuracy: 0.7083 - lr: 3.2000e-05\n",
            "Epoch 21/40\n",
            "22/22 [==============================] - 5s 156ms/step - loss: 3.0895 - accuracy: 0.7048 - val_loss: 2.9468 - val_accuracy: 0.7470 - lr: 3.2000e-05\n",
            "Epoch 22/40\n",
            "22/22 [==============================] - 5s 156ms/step - loss: 3.2921 - accuracy: 0.6416 - val_loss: 3.0721 - val_accuracy: 0.6845 - lr: 3.2000e-05\n",
            "Epoch 23/40\n",
            "22/22 [==============================] - 5s 160ms/step - loss: 3.1460 - accuracy: 0.6900 - val_loss: 2.9926 - val_accuracy: 0.7232 - lr: 3.2000e-05\n",
            "Epoch 24/40\n",
            "22/22 [==============================] - 5s 158ms/step - loss: 3.0669 - accuracy: 0.7138 - val_loss: 2.9778 - val_accuracy: 0.7411 - lr: 3.2000e-05\n",
            "Epoch 25/40\n",
            "22/22 [==============================] - 5s 158ms/step - loss: 3.0809 - accuracy: 0.6944 - val_loss: 2.9567 - val_accuracy: 0.7351 - lr: 3.2000e-05\n",
            "Epoch 26/40\n",
            "21/22 [===========================>..] - ETA: 0s - loss: 3.0731 - accuracy: 0.7068\n",
            "Epoch 26: ReduceLROnPlateau reducing learning rate to 2.5599999935366215e-05.\n",
            "22/22 [==============================] - 5s 158ms/step - loss: 3.0729 - accuracy: 0.7071 - val_loss: 3.0213 - val_accuracy: 0.7054 - lr: 3.2000e-05\n",
            "Epoch 27/40\n",
            "22/22 [==============================] - 5s 162ms/step - loss: 3.1038 - accuracy: 0.6721 - val_loss: 2.9560 - val_accuracy: 0.7381 - lr: 2.5600e-05\n",
            "Epoch 28/40\n",
            "22/22 [==============================] - 6s 221ms/step - loss: 3.0728 - accuracy: 0.7115 - val_loss: 2.9400 - val_accuracy: 0.7292 - lr: 2.5600e-05\n",
            "Epoch 29/40\n",
            "22/22 [==============================] - 5s 159ms/step - loss: 3.0577 - accuracy: 0.7026 - val_loss: 2.9450 - val_accuracy: 0.7351 - lr: 2.5600e-05\n",
            "Epoch 30/40\n",
            "22/22 [==============================] - 5s 162ms/step - loss: 3.0539 - accuracy: 0.7123 - val_loss: 2.9353 - val_accuracy: 0.7292 - lr: 2.5600e-05\n",
            "Epoch 31/40\n",
            "22/22 [==============================] - 5s 160ms/step - loss: 3.0542 - accuracy: 0.6952 - val_loss: 2.9629 - val_accuracy: 0.7024 - lr: 2.5600e-05\n",
            "Epoch 32/40\n",
            "22/22 [==============================] - 5s 158ms/step - loss: 3.0486 - accuracy: 0.6996 - val_loss: 2.9231 - val_accuracy: 0.7351 - lr: 2.5600e-05\n",
            "Epoch 33/40\n",
            "22/22 [==============================] - 5s 158ms/step - loss: 3.0511 - accuracy: 0.7086 - val_loss: 2.9433 - val_accuracy: 0.7381 - lr: 2.5600e-05\n",
            "Epoch 34/40\n",
            "22/22 [==============================] - 5s 158ms/step - loss: 3.0127 - accuracy: 0.7197 - val_loss: 2.9104 - val_accuracy: 0.7411 - lr: 2.5600e-05\n",
            "Epoch 35/40\n",
            "22/22 [==============================] - 5s 158ms/step - loss: 3.0151 - accuracy: 0.7093 - val_loss: 2.9236 - val_accuracy: 0.7440 - lr: 2.5600e-05\n",
            "Epoch 36/40\n",
            "22/22 [==============================] - 5s 159ms/step - loss: 3.0277 - accuracy: 0.7175 - val_loss: 2.9352 - val_accuracy: 0.7292 - lr: 2.5600e-05\n",
            "Epoch 37/40\n",
            "22/22 [==============================] - 5s 158ms/step - loss: 2.9625 - accuracy: 0.7316 - val_loss: 2.9335 - val_accuracy: 0.7232 - lr: 2.5600e-05\n",
            "Epoch 38/40\n",
            "22/22 [==============================] - 5s 156ms/step - loss: 2.9963 - accuracy: 0.7160 - val_loss: 2.9016 - val_accuracy: 0.7500 - lr: 2.5600e-05\n",
            "Epoch 39/40\n",
            "22/22 [==============================] - 5s 159ms/step - loss: 3.0188 - accuracy: 0.7204 - val_loss: 2.9167 - val_accuracy: 0.7500 - lr: 2.5600e-05\n",
            "Epoch 40/40\n",
            "22/22 [==============================] - 5s 159ms/step - loss: 3.0150 - accuracy: 0.7063 - val_loss: 2.9229 - val_accuracy: 0.7470 - lr: 2.5600e-05\n"
          ]
        },
        {
          "data": {
            "text/plain": [
              "<keras.callbacks.History at 0x7f101774f640>"
            ]
          },
          "execution_count": 201,
          "metadata": {},
          "output_type": "execute_result"
        }
      ],
      "source": [
        "modified_incep.fit(train_data, epochs=40, validation_data=valid_data, \n",
        "                   callbacks=[model_checkpoint, lr_reduction],\n",
        "                   class_weight=class_weight)"
      ]
    },
    {
      "cell_type": "code",
      "execution_count": null,
      "metadata": {
        "colab": {
          "base_uri": "https://localhost:8080/",
          "height": 330
        },
        "id": "nqvHD-4hMR1r",
        "outputId": "d7049695-78d2-464b-ef99-83e63675e6cd"
      },
      "outputs": [
        {
          "name": "stdout",
          "output_type": "stream",
          "text": [
            "6/6 [==============================] - 1s 32ms/step\n"
          ]
        },
        {
          "data": {
            "image/png": "[encoded data removed]",
            "text/plain": [
              "<Figure size 432x288 with 2 Axes>"
            ]
          },
          "metadata": {},
          "output_type": "display_data"
        }
      ],
      "source": [
        "show_confusion_matrix(modified_incep, valid_data, valid_labels)"
      ]
    },
    {
      "cell_type": "code",
      "execution_count": null,
      "metadata": {
        "id": "lyrmlB0oMnRx"
      },
      "outputs": [],
      "source": []
    },
    {
      "cell_type": "markdown",
      "metadata": {
        "id": "EY2iwdMI6x1f"
      },
      "source": [
        "## Resnet"
      ]
    },
    {
      "cell_type": "code",
      "execution_count": null,
      "metadata": {
        "id": "E4cPFbU_8Tz4"
      },
      "outputs": [],
      "source": [
        "\n",
        "os.environ['KAGGLE_USERNAME'] = \"aymanmostafa11\"\n",
        "os.environ['KAGGLE_KEY'] = \"9e906ab1e07a4dc6e797063cf8a37f32\""
      ]
    },
    {
      "cell_type": "code",
      "execution_count": null,
      "metadata": {
        "colab": {
          "base_uri": "https://localhost:8080/"
        },
        "id": "VXsSY9B66yon",
        "outputId": "ddc69e9c-befe-4553-a3d7-bb697088974f"
      },
      "outputs": [
        {
          "name": "stdout",
          "output_type": "stream",
          "text": [
            "Downloading resnet50.zip to /content\n",
            " 99% 173M/174M [00:01<00:00, 82.2MB/s]\n",
            "100% 174M/174M [00:01<00:00, 115MB/s] \n"
          ]
        }
      ],
      "source": [
        "!kaggle datasets download -d keras/resnet50"
      ]
    },
    {
      "cell_type": "code",
      "execution_count": null,
      "metadata": {
        "colab": {
          "base_uri": "https://localhost:8080/"
        },
        "id": "pnbwwDCv8RjA",
        "outputId": "696768a7-da31-4440-ce82-9b2d4af5f24f"
      },
      "outputs": [
        {
          "name": "stdout",
          "output_type": "stream",
          "text": [
            "Archive:  resnet50.zip\n",
            "  inflating: imagenet_class_index.json  \n",
            "  inflating: resnet50_weights_tf_dim_ordering_tf_kernels.h5  \n",
            "  inflating: resnet50_weights_tf_dim_ordering_tf_kernels_notop.h5  \n"
          ]
        }
      ],
      "source": [
        "!unzip \"resnet50.zip\""
      ]
    },
    {
      "cell_type": "code",
      "execution_count": null,
      "metadata": {
        "id": "wqv6Diur9ALX"
      },
      "outputs": [],
      "source": [
        "import cv2\n",
        "import numpy as np\n",
        "import os\n",
        "from keras.preprocessing.image import ImageDataGenerator\n",
        "from keras import backend as K\n",
        "import keras\n",
        "from keras.models import Sequential, Model,load_model\n",
        "from keras.optimizers import SGD\n",
        "from keras.callbacks import EarlyStopping,ModelCheckpoint\n",
        "from google.colab.patches import cv2_imshow\n",
        "from keras.layers import Input, Add, Dense, Activation, ZeroPadding2D, BatchNormalization, Flatten, Conv2D, AveragePooling2D, MaxPooling2D, GlobalMaxPooling2D,MaxPool2D\n",
        "from keras.preprocessing import image\n",
        "from keras.initializers import glorot_uniform"
      ]
    },
    {
      "cell_type": "code",
      "execution_count": null,
      "metadata": {
        "id": "7N4e62xO9teX"
      },
      "outputs": [],
      "source": [
        "def identity_block(X, f, filters, stage, block):\n",
        "   \n",
        "    conv_name_base = 'res' + str(stage) + block + '_branch'\n",
        "    bn_name_base = 'bn' + str(stage) + block + '_branch'\n",
        "    F1, F2, F3 = filters\n",
        "\n",
        "    X_shortcut = X\n",
        "   \n",
        "    X = Conv2D(filters=F1, kernel_size=(1, 1), strides=(1, 1), padding='valid', name=conv_name_base + '2a', kernel_initializer=glorot_uniform(seed=0))(X)\n",
        "    X = BatchNormalization(axis=3, name=bn_name_base + '2a')(X)\n",
        "    X = Activation('relu')(X)\n",
        "\n",
        "    X = Conv2D(filters=F2, kernel_size=(f, f), strides=(1, 1), padding='same', name=conv_name_base + '2b', kernel_initializer=glorot_uniform(seed=0))(X)\n",
        "    X = BatchNormalization(axis=3, name=bn_name_base + '2b')(X)\n",
        "    X = Activation('relu')(X)\n",
        "\n",
        "    X = Conv2D(filters=F3, kernel_size=(1, 1), strides=(1, 1), padding='valid', name=conv_name_base + '2c', kernel_initializer=glorot_uniform(seed=0))(X)\n",
        "    X = BatchNormalization(axis=3, name=bn_name_base + '2c')(X)\n",
        "\n",
        "    X = Add()([X, X_shortcut])# SKIP Connection\n",
        "    X = Activation('relu')(X)\n",
        "\n",
        "    return X"
      ]
    },
    {
      "cell_type": "code",
      "execution_count": null,
      "metadata": {
        "id": "M98RTotl9yLP"
      },
      "outputs": [],
      "source": [
        "def convolutional_block(X, f, filters, stage, block, s=2):\n",
        "   \n",
        "    conv_name_base = 'res' + str(stage) + block + '_branch'\n",
        "    bn_name_base = 'bn' + str(stage) + block + '_branch'\n",
        "\n",
        "    F1, F2, F3 = filters\n",
        "\n",
        "    X_shortcut = X\n",
        "\n",
        "    X = Conv2D(filters=F1, kernel_size=(1, 1), strides=(s, s), padding='valid', name=conv_name_base + '2a', kernel_initializer=glorot_uniform(seed=0))(X)\n",
        "    X = BatchNormalization(axis=3, name=bn_name_base + '2a')(X)\n",
        "    X = Activation('relu')(X)\n",
        "\n",
        "    X = Conv2D(filters=F2, kernel_size=(f, f), strides=(1, 1), padding='same', name=conv_name_base + '2b', kernel_initializer=glorot_uniform(seed=0))(X)\n",
        "    X = BatchNormalization(axis=3, name=bn_name_base + '2b')(X)\n",
        "    X = Activation('relu')(X)\n",
        "\n",
        "    X = Conv2D(filters=F3, kernel_size=(1, 1), strides=(1, 1), padding='valid', name=conv_name_base + '2c', kernel_initializer=glorot_uniform(seed=0))(X)\n",
        "    X = BatchNormalization(axis=3, name=bn_name_base + '2c')(X)\n",
        "\n",
        "    X_shortcut = Conv2D(filters=F3, kernel_size=(1, 1), strides=(s, s), padding='valid', name=conv_name_base + '1', kernel_initializer=glorot_uniform(seed=0))(X_shortcut)\n",
        "    X_shortcut = BatchNormalization(axis=3, name=bn_name_base + '1')(X_shortcut)\n",
        "\n",
        "    X = Add()([X, X_shortcut])\n",
        "    X = Activation('relu')(X)\n",
        "\n",
        "    return X"
      ]
    },
    {
      "cell_type": "code",
      "execution_count": null,
      "metadata": {
        "id": "7DCyGw2H90yX"
      },
      "outputs": [],
      "source": [
        "def ResNet50(input_shape=(224, 224, 3)):\n",
        "\n",
        "    X_input = Input(input_shape)\n",
        "\n",
        "    X = ZeroPadding2D((3, 3))(X_input)\n",
        "\n",
        "    X = Conv2D(64, (7, 7), strides=(2, 2), name='conv1', kernel_initializer=glorot_uniform(seed=0))(X)\n",
        "    X = BatchNormalization(axis=3, name='bn_conv1')(X)\n",
        "    X = Activation('relu')(X)\n",
        "    X = MaxPooling2D((3, 3), strides=(2, 2))(X)\n",
        "\n",
        "    X = convolutional_block(X, f=3, filters=[64, 64, 256], stage=2, block='a', s=1)\n",
        "    X = identity_block(X, 3, [64, 64, 256], stage=2, block='b')\n",
        "    X = identity_block(X, 3, [64, 64, 256], stage=2, block='c')\n",
        "\n",
        "\n",
        "    X = convolutional_block(X, f=3, filters=[128, 128, 512], stage=3, block='a', s=2)\n",
        "    X = identity_block(X, 3, [128, 128, 512], stage=3, block='b')\n",
        "    X = identity_block(X, 3, [128, 128, 512], stage=3, block='c')\n",
        "    X = identity_block(X, 3, [128, 128, 512], stage=3, block='d')\n",
        "\n",
        "    X = convolutional_block(X, f=3, filters=[256, 256, 1024], stage=4, block='a', s=2)\n",
        "    X = identity_block(X, 3, [256, 256, 1024], stage=4, block='b')\n",
        "    X = identity_block(X, 3, [256, 256, 1024], stage=4, block='c')\n",
        "    X = identity_block(X, 3, [256, 256, 1024], stage=4, block='d')\n",
        "    X = identity_block(X, 3, [256, 256, 1024], stage=4, block='e')\n",
        "    X = identity_block(X, 3, [256, 256, 1024], stage=4, block='f')\n",
        "\n",
        "    X = X = convolutional_block(X, f=3, filters=[512, 512, 2048], stage=5, block='a', s=2)\n",
        "    X = identity_block(X, 3, [512, 512, 2048], stage=5, block='b')\n",
        "    X = identity_block(X, 3, [512, 512, 2048], stage=5, block='c')\n",
        "\n",
        "    X = AveragePooling2D(pool_size=(2, 2), padding='same')(X)\n",
        "    \n",
        "    model = Model(inputs=X_input, outputs=X, name='ResNet50')\n",
        "\n",
        "    return model"
      ]
    },
    {
      "cell_type": "code",
      "execution_count": null,
      "metadata": {
        "id": "w-n9AZ3x96O4"
      },
      "outputs": [],
      "source": [
        "base_model = ResNet50((*IMG_SIZE, COLOR_CHANNELS))"
      ]
    },
    {
      "cell_type": "code",
      "execution_count": null,
      "metadata": {
        "id": "8W-i5ntv-Mi4"
      },
      "outputs": [],
      "source": [
        "base_model.load_weights(\"/content/resnet50_weights_tf_dim_ordering_tf_kernels_notop.h5\")"
      ]
    },
    {
      "cell_type": "code",
      "execution_count": null,
      "metadata": {
        "id": "Ns1AwafN-TPr"
      },
      "outputs": [],
      "source": [
        "back_bone = base_model.output\n",
        "new_layers = keras.layers.GlobalAveragePooling2D()(back_bone)\n",
        "# new_layers = keras.layers.Dense(32, activation='leaky_relu')(new_layers)\n",
        "new_layers = keras.layers.Dense(CLASS_COUNT, activation='softmax')(new_layers)\n",
        "\n",
        "res_model = Model(inputs=base_model.inputs, outputs=new_layers)"
      ]
    },
    {
      "cell_type": "code",
      "execution_count": null,
      "metadata": {
        "id": "dAlRr10nARFY"
      },
      "outputs": [],
      "source": [
        "apply_weight_decay(res_model)"
      ]
    },
    {
      "cell_type": "code",
      "execution_count": null,
      "metadata": {
        "id": "69YElEotARFZ"
      },
      "outputs": [],
      "source": [
        "res_model.compile(keras.optimizers.Adam(learning_rate=0.00005),\n",
        "              loss=keras.losses.SparseCategoricalCrossentropy(), metrics=['accuracy'])"
      ]
    },
    {
      "cell_type": "code",
      "execution_count": null,
      "metadata": {
        "id": "1ywhvXV_ARFZ"
      },
      "outputs": [],
      "source": [
        "# res_model.summary()"
      ]
    },
    {
      "cell_type": "code",
      "execution_count": null,
      "metadata": {
        "id": "xd8pVR_FARFZ"
      },
      "outputs": [],
      "source": [
        "model_checkpoint = keras.callbacks.ModelCheckpoint(\"checkpoints/pretrained-res-e{epoch:02d}-acc{val_accuracy:.2f}.hdf5\",\n",
        "                                                   monitor=\"val_accuracy\",\n",
        "                                                   save_best_only = True,\n",
        "                                                   initial_value_threshold=0.95)"
      ]
    },
    {
      "cell_type": "code",
      "execution_count": null,
      "metadata": {
        "id": "HIIxQZRSARFa"
      },
      "outputs": [],
      "source": [
        "lr_reduction = ReduceLROnPlateau(monitor='val_loss', \n",
        "                                            patience=5, \n",
        "                                            verbose=1, \n",
        "                                            factor=0.8, \n",
        "                                            min_lr=0.00001)"
      ]
    },
    {
      "cell_type": "code",
      "execution_count": null,
      "metadata": {
        "colab": {
          "base_uri": "https://localhost:8080/"
        },
        "id": "JE11v0OpARFa",
        "outputId": "22d08ea4-57c6-42c1-8323-3fc2d7968186"
      },
      "outputs": [
        {
          "name": "stdout",
          "output_type": "stream",
          "text": [
            "Epoch 1/5\n",
            "22/22 [==============================] - 36s 908ms/step - loss: 23.7026 - accuracy: 0.8781 - val_loss: 23.2449 - val_accuracy: 0.9196 - lr: 5.0000e-05\n",
            "Epoch 2/5\n",
            "22/22 [==============================] - 18s 764ms/step - loss: 22.6424 - accuracy: 0.9993 - val_loss: 22.5162 - val_accuracy: 0.9256 - lr: 5.0000e-05\n",
            "Epoch 3/5\n",
            "22/22 [==============================] - 19s 792ms/step - loss: 21.9756 - accuracy: 0.9993 - val_loss: 21.9032 - val_accuracy: 0.9286 - lr: 5.0000e-05\n",
            "Epoch 4/5\n",
            "22/22 [==============================] - 18s 769ms/step - loss: 21.3425 - accuracy: 0.9993 - val_loss: 21.2941 - val_accuracy: 0.9315 - lr: 5.0000e-05\n",
            "Epoch 5/5\n",
            "22/22 [==============================] - 18s 766ms/step - loss: 20.8111 - accuracy: 0.9978 - val_loss: 20.8855 - val_accuracy: 0.8988 - lr: 5.0000e-05\n"
          ]
        },
        {
          "data": {
            "text/plain": [
              "<keras.callbacks.History at 0x7faa6717f7f0>"
            ]
          },
          "execution_count": 187,
          "metadata": {},
          "output_type": "execute_result"
        }
      ],
      "source": [
        "res_model.fit(train_data, epochs=5, validation_data=valid_data, \n",
        "                   callbacks=[model_checkpoint, lr_reduction],\n",
        "                   class_weight=class_weight)"
      ]
    },
    {
      "cell_type": "code",
      "execution_count": null,
      "metadata": {
        "colab": {
          "base_uri": "https://localhost:8080/"
        },
        "id": "eJr5lVuVB88g",
        "outputId": "5510918a-9223-41d5-d8bb-fb6664c49ec3"
      },
      "outputs": [
        {
          "name": "stdout",
          "output_type": "stream",
          "text": [
            "11/11 [==============================] - 2s 102ms/step\n"
          ]
        },
        {
          "data": {
            "text/plain": [
              "0.9551154239299797"
            ]
          },
          "execution_count": 191,
          "metadata": {},
          "output_type": "execute_result"
        }
      ],
      "source": [
        "calc_f1_score(res_model, valid_data)"
      ]
    },
    {
      "cell_type": "code",
      "execution_count": null,
      "metadata": {
        "colab": {
          "base_uri": "https://localhost:8080/",
          "height": 330
        },
        "id": "WmIoYFOrPLl9",
        "outputId": "f1e09300-0c82-415b-9e7a-2ca8fcc59751"
      },
      "outputs": [
        {
          "name": "stdout",
          "output_type": "stream",
          "text": [
            "11/11 [==============================] - 1s 102ms/step\n"
          ]
        },
        {
          "data": {
            "image/png": "[encoded data removed]",
            "text/plain": [
              "<Figure size 432x288 with 2 Axes>"
            ]
          },
          "metadata": {},
          "output_type": "display_data"
        }
      ],
      "source": [
        "show_confusion_matrix(res_model, valid_data)"
      ]
    },
    {
      "cell_type": "markdown",
      "metadata": {
        "id": "otnGbmYfjNk6"
      },
      "source": [
        "## Xception"
      ]
    },
    {
      "cell_type": "code",
      "execution_count": null,
      "metadata": {
        "colab": {
          "base_uri": "https://localhost:8080/"
        },
        "id": "jjnuPL_rlzA5",
        "outputId": "8d3e2d27-0f36-4f35-dd8a-48cd942548fb"
      },
      "outputs": [
        {
          "name": "stdout",
          "output_type": "stream",
          "text": [
            "--2022-12-24 16:30:22--  https://storage.googleapis.com/tensorflow/keras-applications/xception/xception_weights_tf_dim_ordering_tf_kernels_notop.h5\n",
            "Resolving storage.googleapis.com (storage.googleapis.com)... 142.250.145.128, 173.194.79.128, 108.177.127.128, ...\n",
            "Connecting to storage.googleapis.com (storage.googleapis.com)|142.250.145.128|:443... connected.\n",
            "HTTP request sent, awaiting response... 200 OK\n",
            "Length: 83683744 (80M) [application/octet-stream]\n",
            "Saving to: ‘xception_weights_tf_dim_ordering_tf_kernels_notop.h5’\n",
            "\n",
            "xception_weights_tf 100%[===================>]  79.81M  31.4MB/s    in 2.5s    \n",
            "\n",
            "2022-12-24 16:30:25 (31.4 MB/s) - ‘xception_weights_tf_dim_ordering_tf_kernels_notop.h5’ saved [83683744/83683744]\n",
            "\n"
          ]
        }
      ],
      "source": [
        "# Download weights\n",
        "xception_weights = \"xception_weights_tf_dim_ordering_tf_kernels_notop.h5\"\n",
        "!wget https://storage.googleapis.com/tensorflow/keras-applications/xception/xception_weights_tf_dim_ordering_tf_kernels_notop.h5"
      ]
    },
    {
      "cell_type": "markdown",
      "metadata": {
        "id": "PKQ4q7uolw9I"
      },
      "source": [
        "### Architecture"
      ]
    },
    {
      "cell_type": "code",
      "execution_count": null,
      "metadata": {
        "id": "gHq_BGKmjP4C"
      },
      "outputs": [],
      "source": [
        "def conv_bn(x, filters, kernel_size, strides=1):\n",
        "  \n",
        "  x = Conv2D(filters=filters, \n",
        "              kernel_size = kernel_size, \n",
        "              strides=strides, \n",
        "              padding = 'same', \n",
        "              use_bias = False)(x)\n",
        "  x = BatchNormalization(axis=COLOR_CHANNELS)(x)\n",
        "  return x"
      ]
    },
    {
      "cell_type": "code",
      "execution_count": null,
      "metadata": {
        "id": "TPPfMhq0jTwA"
      },
      "outputs": [],
      "source": [
        "def sep_bn(x, filters, kernel_size, strides=1):\n",
        "  \n",
        "  x = SeparableConv2D(filters=filters, \n",
        "                      kernel_size = kernel_size, \n",
        "                      strides=strides, \n",
        "                      padding = 'same', \n",
        "                      use_bias = False)(x)\n",
        "  x = BatchNormalization(axis=COLOR_CHANNELS)(x)\n",
        "  return x"
      ]
    },
    {
      "cell_type": "code",
      "execution_count": null,
      "metadata": {
        "id": "qraYRPy6jdAp"
      },
      "outputs": [],
      "source": [
        "def entry_flow(x):\n",
        "    \n",
        "  x = conv_bn(x, filters =32, kernel_size =3, strides=2)\n",
        "  x = ReLU()(x)\n",
        "  x = conv_bn(x, filters =64, kernel_size =3, strides=1)\n",
        "  tensor = ReLU()(x)\n",
        "  \n",
        "  x = sep_bn(tensor, filters = 128, kernel_size =3)\n",
        "  x = ReLU()(x)\n",
        "  x = sep_bn(x, filters = 128, kernel_size =3)\n",
        "  x = MaxPool2D(pool_size=3, strides=2, padding = 'same')(x)\n",
        "  \n",
        "  tensor = conv_bn(tensor, filters=128, kernel_size = 1,strides=2)\n",
        "  x = Add()([tensor,x])\n",
        "  \n",
        "  x = ReLU()(x)\n",
        "  x = sep_bn(x, filters =256, kernel_size=3)\n",
        "  x = ReLU()(x)\n",
        "  x = sep_bn(x, filters =256, kernel_size=3)\n",
        "  x = MaxPool2D(pool_size=3, strides=2, padding = 'same')(x)\n",
        "  \n",
        "  tensor = conv_bn(tensor, filters=256, kernel_size = 1,strides=2)\n",
        "  x = Add()([tensor,x])\n",
        "  \n",
        "  x = ReLU()(x)\n",
        "  x = sep_bn(x, filters =728, kernel_size=3)\n",
        "  x = ReLU()(x)\n",
        "  x = sep_bn(x, filters =728, kernel_size=3)\n",
        "  x = MaxPool2D(pool_size=3, strides=2, padding = 'same')(x)\n",
        "  \n",
        "  tensor = conv_bn(tensor, filters=728, kernel_size = 1,strides=2)\n",
        "  x = Add()([tensor,x])\n",
        "  return x"
      ]
    },
    {
      "cell_type": "code",
      "execution_count": null,
      "metadata": {
        "id": "NRHIk4txjiNZ"
      },
      "outputs": [],
      "source": [
        "def middle_flow(tensor):\n",
        "\n",
        "  for _ in range(8):\n",
        "      x = ReLU()(tensor)\n",
        "      x = sep_bn(x, filters = 728, kernel_size = 3)\n",
        "      x = ReLU()(x)\n",
        "      x = sep_bn(x, filters = 728, kernel_size = 3)\n",
        "      x = ReLU()(x)\n",
        "      x = sep_bn(x, filters = 728, kernel_size = 3)\n",
        "      x = ReLU()(x)\n",
        "      tensor = Add()([tensor,x])\n",
        "      \n",
        "  return tensor"
      ]
    },
    {
      "cell_type": "code",
      "execution_count": null,
      "metadata": {
        "id": "6VOpCaU2jnLa"
      },
      "outputs": [],
      "source": [
        "def exit_flow(tensor):\n",
        "    \n",
        "  x = ReLU()(tensor)\n",
        "  x = sep_bn(x, filters = 728,  kernel_size=3)\n",
        "  x = ReLU()(x)\n",
        "  x = sep_bn(x, filters = 1024,  kernel_size=3)\n",
        "  x = MaxPool2D(pool_size = 3, strides = 2, padding ='same')(x)\n",
        "  \n",
        "  tensor = conv_bn(tensor, filters =1024, kernel_size=1, strides =2)\n",
        "  x = Add()([tensor,x])\n",
        "  \n",
        "  x = sep_bn(x, filters = 1536,  kernel_size=3)\n",
        "  x = ReLU()(x)\n",
        "  x = sep_bn(x, filters = 2048,  kernel_size=3)\n",
        "  x = GlobalAveragePooling2D()(x)\n",
        "  \n",
        "#  x = Dense (units = 1000, activation = 'softmax')(x)\n",
        "  \n",
        "  return x"
      ]
    },
    {
      "cell_type": "code",
      "execution_count": null,
      "metadata": {
        "id": "XwG4YE0Dsspb"
      },
      "outputs": [],
      "source": [
        "channel_axis = 3 \n",
        "img_input = Input(shape = (*IMG_SIZE, COLOR_CHANNELS))\n",
        "x = layers.Conv2D(\n",
        "    32, (3, 3), strides=(2, 2), use_bias=False, name=\"block1_conv1\"\n",
        ")(img_input)\n",
        "x = layers.BatchNormalization(axis=channel_axis, name=\"block1_conv1_bn\")(x)\n",
        "x = layers.Activation(\"relu\", name=\"block1_conv1_act\")(x)\n",
        "x = layers.Conv2D(64, (3, 3), use_bias=False, name=\"block1_conv2\")(x)\n",
        "x = layers.BatchNormalization(axis=channel_axis, name=\"block1_conv2_bn\")(x)\n",
        "x = layers.Activation(\"relu\", name=\"block1_conv2_act\")(x)\n",
        "\n",
        "residual = layers.Conv2D(\n",
        "    128, (1, 1), strides=(2, 2), padding=\"same\", use_bias=False\n",
        ")(x)\n",
        "residual = layers.BatchNormalization(axis=channel_axis)(residual)\n",
        "\n",
        "x = layers.SeparableConv2D(\n",
        "    128, (3, 3), padding=\"same\", use_bias=False, name=\"block2_sepconv1\"\n",
        ")(x)\n",
        "x = layers.BatchNormalization(axis=channel_axis, name=\"block2_sepconv1_bn\")(\n",
        "    x\n",
        ")\n",
        "x = layers.Activation(\"relu\", name=\"block2_sepconv2_act\")(x)\n",
        "x = layers.SeparableConv2D(\n",
        "    128, (3, 3), padding=\"same\", use_bias=False, name=\"block2_sepconv2\"\n",
        ")(x)\n",
        "x = layers.BatchNormalization(axis=channel_axis, name=\"block2_sepconv2_bn\")(\n",
        "    x\n",
        ")\n",
        "\n",
        "x = layers.MaxPooling2D(\n",
        "    (3, 3), strides=(2, 2), padding=\"same\", name=\"block2_pool\"\n",
        ")(x)\n",
        "x = layers.add([x, residual])\n",
        "\n",
        "residual = layers.Conv2D(\n",
        "    256, (1, 1), strides=(2, 2), padding=\"same\", use_bias=False\n",
        ")(x)\n",
        "residual = layers.BatchNormalization(axis=channel_axis)(residual)\n",
        "\n",
        "x = layers.Activation(\"relu\", name=\"block3_sepconv1_act\")(x)\n",
        "x = layers.SeparableConv2D(\n",
        "    256, (3, 3), padding=\"same\", use_bias=False, name=\"block3_sepconv1\"\n",
        ")(x)\n",
        "x = layers.BatchNormalization(axis=channel_axis, name=\"block3_sepconv1_bn\")(\n",
        "    x\n",
        ")\n",
        "x = layers.Activation(\"relu\", name=\"block3_sepconv2_act\")(x)\n",
        "x = layers.SeparableConv2D(\n",
        "    256, (3, 3), padding=\"same\", use_bias=False, name=\"block3_sepconv2\"\n",
        ")(x)\n",
        "x = layers.BatchNormalization(axis=channel_axis, name=\"block3_sepconv2_bn\")(\n",
        "    x\n",
        ")\n",
        "\n",
        "x = layers.MaxPooling2D(\n",
        "    (3, 3), strides=(2, 2), padding=\"same\", name=\"block3_pool\"\n",
        ")(x)\n",
        "x = layers.add([x, residual])\n",
        "\n",
        "residual = layers.Conv2D(\n",
        "    728, (1, 1), strides=(2, 2), padding=\"same\", use_bias=False\n",
        ")(x)\n",
        "residual = layers.BatchNormalization(axis=channel_axis)(residual)\n",
        "\n",
        "x = layers.Activation(\"relu\", name=\"block4_sepconv1_act\")(x)\n",
        "x = layers.SeparableConv2D(\n",
        "    728, (3, 3), padding=\"same\", use_bias=False, name=\"block4_sepconv1\"\n",
        ")(x)\n",
        "x = layers.BatchNormalization(axis=channel_axis, name=\"block4_sepconv1_bn\")(\n",
        "    x\n",
        ")\n",
        "x = layers.Activation(\"relu\", name=\"block4_sepconv2_act\")(x)\n",
        "x = layers.SeparableConv2D(\n",
        "    728, (3, 3), padding=\"same\", use_bias=False, name=\"block4_sepconv2\"\n",
        ")(x)\n",
        "x = layers.BatchNormalization(axis=channel_axis, name=\"block4_sepconv2_bn\")(\n",
        "    x\n",
        ")\n",
        "\n",
        "x = layers.MaxPooling2D(\n",
        "    (3, 3), strides=(2, 2), padding=\"same\", name=\"block4_pool\"\n",
        ")(x)\n",
        "x = layers.add([x, residual])\n",
        "\n",
        "for i in range(8):\n",
        "    residual = x\n",
        "    prefix = \"block\" + str(i + 5)\n",
        "\n",
        "    x = layers.Activation(\"relu\", name=prefix + \"_sepconv1_act\")(x)\n",
        "    x = layers.SeparableConv2D(\n",
        "        728,\n",
        "        (3, 3),\n",
        "        padding=\"same\",\n",
        "        use_bias=False,\n",
        "        name=prefix + \"_sepconv1\",\n",
        "    )(x)\n",
        "    x = layers.BatchNormalization(\n",
        "        axis=channel_axis, name=prefix + \"_sepconv1_bn\"\n",
        "    )(x)\n",
        "    x = layers.Activation(\"relu\", name=prefix + \"_sepconv2_act\")(x)\n",
        "    x = layers.SeparableConv2D(\n",
        "        728,\n",
        "        (3, 3),\n",
        "        padding=\"same\",\n",
        "        use_bias=False,\n",
        "        name=prefix + \"_sepconv2\",\n",
        "    )(x)\n",
        "    x = layers.BatchNormalization(\n",
        "        axis=channel_axis, name=prefix + \"_sepconv2_bn\"\n",
        "    )(x)\n",
        "    x = layers.Activation(\"relu\", name=prefix + \"_sepconv3_act\")(x)\n",
        "    x = layers.SeparableConv2D(\n",
        "        728,\n",
        "        (3, 3),\n",
        "        padding=\"same\",\n",
        "        use_bias=False,\n",
        "        name=prefix + \"_sepconv3\",\n",
        "    )(x)\n",
        "    x = layers.BatchNormalization(\n",
        "        axis=channel_axis, name=prefix + \"_sepconv3_bn\"\n",
        "    )(x)\n",
        "\n",
        "    x = layers.add([x, residual])\n",
        "\n",
        "residual = layers.Conv2D(\n",
        "    1024, (1, 1), strides=(2, 2), padding=\"same\", use_bias=False\n",
        ")(x)\n",
        "residual = layers.BatchNormalization(axis=channel_axis)(residual)\n",
        "\n",
        "x = layers.Activation(\"relu\", name=\"block13_sepconv1_act\")(x)\n",
        "x = layers.SeparableConv2D(\n",
        "    728, (3, 3), padding=\"same\", use_bias=False, name=\"block13_sepconv1\"\n",
        ")(x)\n",
        "x = layers.BatchNormalization(\n",
        "    axis=channel_axis, name=\"block13_sepconv1_bn\"\n",
        ")(x)\n",
        "x = layers.Activation(\"relu\", name=\"block13_sepconv2_act\")(x)\n",
        "x = layers.SeparableConv2D(\n",
        "    1024, (3, 3), padding=\"same\", use_bias=False, name=\"block13_sepconv2\"\n",
        ")(x)\n",
        "x = layers.BatchNormalization(\n",
        "    axis=channel_axis, name=\"block13_sepconv2_bn\"\n",
        ")(x)\n",
        "\n",
        "x = layers.MaxPooling2D(\n",
        "    (3, 3), strides=(2, 2), padding=\"same\", name=\"block13_pool\"\n",
        ")(x)\n",
        "x = layers.add([x, residual])\n",
        "\n",
        "x = layers.SeparableConv2D(\n",
        "    1536, (3, 3), padding=\"same\", use_bias=False, name=\"block14_sepconv1\"\n",
        ")(x)\n",
        "x = layers.BatchNormalization(\n",
        "    axis=channel_axis, name=\"block14_sepconv1_bn\"\n",
        ")(x)\n",
        "x = layers.Activation(\"relu\", name=\"block14_sepconv1_act\")(x)\n",
        "\n",
        "x = layers.SeparableConv2D(\n",
        "    2048, (3, 3), padding=\"same\", use_bias=False, name=\"block14_sepconv2\"\n",
        ")(x)\n",
        "x = layers.BatchNormalization(\n",
        "    axis=channel_axis, name=\"block14_sepconv2_bn\"\n",
        ")(x)\n",
        "x = layers.Activation(\"relu\", name=\"block14_sepconv2_act\")(x)\n",
        "\n",
        "x = layers.GlobalAveragePooling2D(name=\"avg_pool\")(x)"
      ]
    },
    {
      "cell_type": "code",
      "execution_count": null,
      "metadata": {
        "id": "I18zxZ3etIOx"
      },
      "outputs": [],
      "source": [
        "back_bone = Model(inputs=img_input, outputs= x)"
      ]
    },
    {
      "cell_type": "code",
      "execution_count": null,
      "metadata": {
        "id": "ZXonZQW7tOvK"
      },
      "outputs": [],
      "source": [
        "back_bone.load_weights(xception_weights)"
      ]
    },
    {
      "cell_type": "code",
      "execution_count": null,
      "metadata": {
        "id": "PRE2rDEYnH9J"
      },
      "outputs": [],
      "source": [
        "# input = Input(shape = (*IMG_SIZE, COLOR_CHANNELS))\n",
        "# x = entry_flow(input)\n",
        "# x = middle_flow(x)\n",
        "# back_bone_layers = exit_flow(x)\n",
        "\n",
        "# back_bone = Model(inputs=input, outputs=back_bone_layers)\n",
        "# back_bone.load_weights(\"/content/xception_weights_tf_dim_ordering_tf_kernels_notop.h5\")"
      ]
    },
    {
      "cell_type": "code",
      "execution_count": null,
      "metadata": {
        "id": "AuZTl91PnCzW"
      },
      "outputs": [],
      "source": [
        "new_model = Dense(CLASS_COUNT, activation='softmax')(back_bone.output)\n",
        "\n",
        "xception = Model(inputs=img_input, outputs=new_model)\n",
        "#xception.load_weights(xception_weigths)\n",
        "#xception.summary()"
      ]
    },
    {
      "cell_type": "markdown",
      "metadata": {
        "id": "lAp4kcZlv9Yl"
      },
      "source": [
        "### Training"
      ]
    },
    {
      "cell_type": "code",
      "execution_count": null,
      "metadata": {
        "id": "dT34sIdywIln"
      },
      "outputs": [],
      "source": [
        "apply_weight_decay(xception,0.005)"
      ]
    },
    {
      "cell_type": "code",
      "execution_count": null,
      "metadata": {
        "id": "N10-WDFGwIlp"
      },
      "outputs": [],
      "source": [
        "xception.compile(keras.optimizers.Adam(learning_rate=0.00001),\n",
        "              loss=keras.losses.SparseCategoricalCrossentropy(), metrics=['accuracy'])"
      ]
    },
    {
      "cell_type": "code",
      "execution_count": null,
      "metadata": {
        "id": "0qtS65ZqwIlr"
      },
      "outputs": [],
      "source": [
        "model_checkpoint = keras.callbacks.ModelCheckpoint(\"checkpoints/pretrained-xcep-aug-acc{val_accuracy:.2f}.hdf5\",\n",
        "                                                   monitor=\"val_accuracy\",\n",
        "                                                   save_best_only = True,\n",
        "                                                   initial_value_threshold=0.97)"
      ]
    },
    {
      "cell_type": "code",
      "execution_count": null,
      "metadata": {
        "id": "6_glaSb9wIlr"
      },
      "outputs": [],
      "source": [
        "lr_reduction = ReduceLROnPlateau(monitor='val_accuracy', \n",
        "                                            patience=5, \n",
        "                                            verbose=1, \n",
        "                                            factor=0.8, \n",
        "                                            min_lr=0.00001)"
      ]
    },
    {
      "cell_type": "code",
      "execution_count": null,
      "metadata": {
        "colab": {
          "background_save": true,
          "base_uri": "https://localhost:8080/"
        },
        "id": "yP4P_ATUwsUI",
        "outputId": "9eb2a743-a517-4bff-d342-58b29b64bb05"
      },
      "outputs": [
        {
          "name": "stdout",
          "output_type": "stream",
          "text": [
            "Epoch 1/15\n",
            "44/44 [==============================] - 68s 1s/step - loss: 13.9147 - accuracy: 0.9833 - val_loss: 13.9171 - val_accuracy: 0.9554 - lr: 1.0000e-05\n",
            "Epoch 2/15\n",
            "44/44 [==============================] - 69s 1s/step - loss: 13.7796 - accuracy: 0.9881 - val_loss: 13.8035 - val_accuracy: 0.9583 - lr: 1.0000e-05\n",
            "Epoch 3/15\n",
            "44/44 [==============================] - 68s 1s/step - loss: 13.6640 - accuracy: 0.9888 - val_loss: 13.6890 - val_accuracy: 0.9583 - lr: 1.0000e-05\n",
            "Epoch 4/15\n",
            "44/44 [==============================] - 68s 1s/step - loss: 13.5495 - accuracy: 0.9907 - val_loss: 13.5796 - val_accuracy: 0.9583 - lr: 1.0000e-05\n",
            "Epoch 5/15\n",
            "44/44 [==============================] - 68s 1s/step - loss: 13.4458 - accuracy: 0.9918 - val_loss: 13.4736 - val_accuracy: 0.9613 - lr: 1.0000e-05\n",
            "Epoch 6/15\n",
            "44/44 [==============================] - 68s 1s/step - loss: 13.3335 - accuracy: 0.9963 - val_loss: 13.3717 - val_accuracy: 0.9643 - lr: 1.0000e-05\n",
            "Epoch 7/15\n",
            "44/44 [==============================] - 68s 1s/step - loss: 13.2403 - accuracy: 0.9918 - val_loss: 13.2743 - val_accuracy: 0.9643 - lr: 1.0000e-05\n",
            "Epoch 8/15\n",
            "44/44 [==============================] - 68s 1s/step - loss: 13.1380 - accuracy: 0.9911 - val_loss: 13.1743 - val_accuracy: 0.9583 - lr: 1.0000e-05\n",
            "Epoch 9/15\n",
            "44/44 [==============================] - 69s 1s/step - loss: 13.0368 - accuracy: 0.9941 - val_loss: 13.0791 - val_accuracy: 0.9583 - lr: 1.0000e-05\n",
            "Epoch 10/15\n",
            "44/44 [==============================] - 68s 1s/step - loss: 12.9401 - accuracy: 0.9926 - val_loss: 12.9828 - val_accuracy: 0.9583 - lr: 1.0000e-05\n",
            "Epoch 11/15\n",
            "44/44 [==============================] - 68s 1s/step - loss: 12.8454 - accuracy: 0.9937 - val_loss: 12.8893 - val_accuracy: 0.9613 - lr: 1.0000e-05\n",
            "Epoch 12/15\n",
            "44/44 [==============================] - 68s 1s/step - loss: 12.7515 - accuracy: 0.9937 - val_loss: 12.7954 - val_accuracy: 0.9613 - lr: 1.0000e-05\n",
            "Epoch 13/15\n",
            "44/44 [==============================] - 68s 1s/step - loss: 12.6548 - accuracy: 0.9959 - val_loss: 12.7060 - val_accuracy: 0.9613 - lr: 1.0000e-05\n",
            "Epoch 14/15\n",
            "44/44 [==============================] - 68s 1s/step - loss: 12.5744 - accuracy: 0.9948 - val_loss: 12.6172 - val_accuracy: 0.9613 - lr: 1.0000e-05\n",
            "Epoch 15/15\n",
            "44/44 [==============================] - 68s 1s/step - loss: 12.4840 - accuracy: 0.9952 - val_loss: 12.5313 - val_accuracy: 0.9613 - lr: 1.0000e-05\n"
          ]
        },
        {
          "data": {
            "text/plain": [
              "<keras.callbacks.History at 0x7ff6a63c9d30>"
            ]
          },
          "execution_count": 191,
          "metadata": {},
          "output_type": "execute_result"
        }
      ],
      "source": [
        "xception.fit(train_data, epochs=15, validation_data=valid_data,\n",
        "            callbacks=[model_checkpoint, lr_reduction],\n",
        "                   class_weight=class_weight)"
      ]
    },
    {
      "cell_type": "code",
      "execution_count": null,
      "metadata": {
        "colab": {
          "base_uri": "https://localhost:8080/"
        },
        "id": "XglW3SvtwIlu",
        "outputId": "4fd20a3d-27eb-49dd-a887-87666bb7d8cf"
      },
      "outputs": [
        {
          "name": "stdout",
          "output_type": "stream",
          "text": [
            "11/11 [==============================] - 2s 133ms/step\n"
          ]
        },
        {
          "data": {
            "text/plain": [
              "1.0"
            ]
          },
          "execution_count": 93,
          "metadata": {},
          "output_type": "execute_result"
        }
      ],
      "source": [
        "xcalc_f1_score(xception, valid_data)"
      ]
    },
    {
      "cell_type": "code",
      "execution_count": null,
      "metadata": {
        "colab": {
          "base_uri": "https://localhost:8080/",
          "height": 330
        },
        "id": "6QO7v6REwIlv",
        "outputId": "4fbf6ea9-f7a7-4387-8bb0-06b8210a2150"
      },
      "outputs": [
        {
          "name": "stdout",
          "output_type": "stream",
          "text": [
            "11/11 [==============================] - 1s 132ms/step\n"
          ]
        },
        {
          "data": {
            "image/png": "[encoded data removed]",
            "text/plain": [
              "<Figure size 432x288 with 2 Axes>"
            ]
          },
          "metadata": {},
          "output_type": "display_data"
        }
      ],
      "source": [
        "show_confusion_matrix(xception, valid_data)"
      ]
    },
    {
      "cell_type": "code",
      "execution_count": null,
      "metadata": {
        "id": "TzmLqn305gT7"
      },
      "outputs": [],
      "source": [
        "xception.fit(valid_data, epochs=5, callbacks=[lr_reduction],\n",
        "                   class_weight=class_weight)"
      ]
    },
    {
      "cell_type": "markdown",
      "metadata": {
        "id": "gcPJa3V5DQP3"
      },
      "source": [
        "# Testing Model"
      ]
    },
    {
      "cell_type": "code",
      "execution_count": null,
      "metadata": {
        "colab": {
          "base_uri": "https://localhost:8080/"
        },
        "id": "WltbC2HgDRew",
        "outputId": "14f507f2-5a1d-4d40-b269-84c37a4263fd"
      },
      "outputs": [
        {
          "name": "stdout",
          "output_type": "stream",
          "text": [
            "11/11 [==============================] - 6s 546ms/step\n"
          ]
        }
      ],
      "source": [
        "pred = xception.predict(test_data).argmax(axis=1)"
      ]
    },
    {
      "cell_type": "code",
      "execution_count": null,
      "metadata": {
        "id": "xS4oFCwhlz4O"
      },
      "outputs": [],
      "source": [
        "files = np.array(sorted(os.listdir(\"/content/content/classed/Test\")))"
      ]
    },
    {
      "cell_type": "code",
      "execution_count": null,
      "metadata": {
        "colab": {
          "base_uri": "https://localhost:8080/"
        },
        "id": "EG00zW--mFXr",
        "outputId": "a5783717-1e6e-45bc-9ffd-6ce068edf8dd"
      },
      "outputs": [
        {
          "data": {
            "text/plain": [
              "(688, 1)"
            ]
          },
          "execution_count": 105,
          "metadata": {},
          "output_type": "execute_result"
        }
      ],
      "source": [
        "files.reshape(-1,1).shape"
      ]
    },
    {
      "cell_type": "code",
      "execution_count": null,
      "metadata": {
        "id": "DgVofc7ef3ed"
      },
      "outputs": [],
      "source": [
        "sub = pd.DataFrame(files, columns=[\"image_name\"])"
      ]
    },
    {
      "cell_type": "code",
      "execution_count": null,
      "metadata": {
        "id": "JEHplY3rmjNl"
      },
      "outputs": [],
      "source": [
        "sub[\"label\"] = pred"
      ]
    },
    {
      "cell_type": "code",
      "execution_count": null,
      "metadata": {
        "id": "KHlQzy7FkUXl"
      },
      "outputs": [],
      "source": [
        "sub.to_csv(\"pretrained_xc_97acc_aug.csv\", index = False ,encoding='utf-8')"
      ]
    },
    {
      "cell_type": "code",
      "execution_count": null,
      "metadata": {
        "id": "MRjvNqPjS-v9"
      },
      "outputs": [],
      "source": []
    },
    {
      "cell_type": "code",
      "execution_count": null,
      "metadata": {
        "id": "nqLrkM5HDfNB"
      },
      "outputs": [],
      "source": [
        "!cp \"/content/checkpoints/pretrained-xcep-e05-acc0.97.hdf5\" \"/content/drive/MyDrive/Edu/NN\""
      ]
    },
    {
      "cell_type": "code",
      "execution_count": null,
      "metadata": {
        "id": "v11dNUD4UcS0"
      },
      "outputs": [],
      "source": []
    }
  ],
  "metadata": {
    "accelerator": "GPU",
    "colab": {
      "collapsed_sections": [
        "h8qMCkaLS_tS",
        "EfiRQMbU9iub",
        "jR9H0--H6PJk",
        "ApC8AxMT8SgC",
        "5_7mNODs5fea",
        "yLjbilnS4xCJ",
        "QPNGU0T4-GWM"
      ],
      "toc_visible": true,
      "provenance": []
    },
    "gpuClass": "standard",
    "kernelspec": {
      "display_name": "Python 3",
      "name": "python3"
    },
    "language_info": {
      "name": "python"
    }
  },
  "nbformat": 4,
  "nbformat_minor": 0
}